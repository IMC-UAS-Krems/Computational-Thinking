{
 "cells": [
  {
   "cell_type": "code",
   "execution_count": null,
   "metadata": {},
   "outputs": [],
   "source": []
  },
  {
   "cell_type": "markdown",
   "metadata": {},
   "source": [
    "# 1 Daten\n",
    "Eine wichtige Aufgabe von Programmen ist die Verarbeitung von Daten. \n",
    "\n",
    "# 1.1 Datentypen\n",
    "\n",
    "Programmiersprachen können verschiedene Datentypen handhaben. Je nach dem, welchen Datentyp die Daten haben, kann das Programm sie auch verarbeiten: so können Zahlen addiert werden während im Text nach Buchstabenabfolgen gesucht werden kann. Folgende sind die wichtigsten Datentypen, die Sie für Ihre Arbeit mit Python in diesem Kurs brauchen werden.\n",
    "\n",
    "**Einfache Datentypen**\n",
    "\n",
    "- *int* (integer): Dieser Datentyp beschreibt sind ganze Zahlen, wie 2, 198852, aber auch -123.\n",
    "- *float* (floating-point number): Dies sind Zahlen im dezimalen Format und damit sie Python erkennt, müssen sie als dezimale Zahlen eingegeben werden, wie 4.25, 7.399, oder -4.0; beachten Sie, dass Python einen Dezimalpunkt verwendet - eine Dezimalkomma wird nicht erkannt.\n",
    "- *string*: Dieser Datentyp beschreibt eine Zeichenkette, also jegliche Text, die auch Zahlen beinhalten dürfen. Damit sie Python erkennt, werden sie in Anführungsstrichen angegeben, wie \"Auto\", \"Jahr 2000\" aber auch 'Mein Tagebuch'.\n",
    "- *bool* (Boolean value): Dieser Datentyp erkennt zwei logische Werte - True (wahr) und False (falsch); er ist vor allem bei Vergleichen und logischen Operationen wichtig.\n",
    "\n",
    "Probieren wir es mal. Was glauben Sie, von welchem Typ sind folgende Daten?\n",
    "\n",
    "- -985.33\n",
    "- 123\n",
    "- False\n",
    "- 'Python'\n",
    "- 239,22\n",
    "\n",
    "Wenn Sie sich nicht sicher sind, können Sie jederzeit auch die Pythonfunktion type() nutzen."
   ]
  },
  {
   "cell_type": "code",
   "execution_count": 4,
   "metadata": {},
   "outputs": [
    {
     "data": {
      "text/plain": [
       "float"
      ]
     },
     "metadata": {},
     "output_type": "display_data"
    }
   ],
   "source": [
    "type(-985.33)"
   ]
  },
  {
   "cell_type": "markdown",
   "metadata": {},
   "source": [
    "Ist es Ihnen aufgefallen? Python erkennt den Datentyp eigenständig - Sie müssen ihn nicht definieren.\n",
    "\n",
    "**Zusammengesetzte Datentypen**\n",
    "\n",
    "Man kann einfache Datentypen in Datenmengen gruppieren - beispielsweise ist ein string eigentlich bereits eine zusammensetzte Menge an einzelnen Zeichen. Python bietet verschieden Arten von zusammengesetzten Datentypen, wir werden uns in dieser Veranstaltung allerdings nur einer bedienen: den Listen. Eine Liste ist eine geordnete, veränderbare Menge an Datenelementen. Sie wird durch eckige Klammer kenntlich gemacht und die Elemente werden mit Kommas getrennt. \n",
    " - [2, 5, 7, 3]\n",
    " - [\"pferd\", -345.55, True]\n",
    "\n",
    "Eine Liste kann Elemente vom verschiedenen Datentyp beinhalten. Sie ist \"geordnet\", da jeder Element einen festen, zählbaren Platz hat. Und sie ist veränderbar, da es möglich ist Elemente zu löschen oder hinzuzufügen. Wie man mit Listen arbeitet, sehen Sie später.\n",
    "\n",
    "Probieren Sie jetzt, welchen Datentyp für die folgende Angabe von Python erkannt wird."
   ]
  },
  {
   "cell_type": "code",
   "execution_count": 5,
   "metadata": {},
   "outputs": [
    {
     "data": {
      "text/plain": [
       "list"
      ]
     },
     "metadata": {},
     "output_type": "display_data"
    }
   ],
   "source": [
    "type([\"pferd\", -345.55, True])"
   ]
  },
  {
   "cell_type": "markdown",
   "metadata": {},
   "source": [
    "# 1.2 Variablen\n",
    "\n",
    "Nur Daten eingeben und ihren Typ bestimmen zu können reicht natürlich nicht - wir wollen die Daten auch speichern können, damit wir mit ihnen auch später arbeiten können. Hierzu verwenden wir Variablen. \n",
    "\n",
    "Eine Variable hat eine Namen und eine Wert. Um einer Variable einen Wert zuzuweisen, verwendet man den Zuweisungsoprator =. Eine Zuweisung hat folgende Form:\n",
    "\n",
    "     <variablenname> = <variablenwert>\n",
    "\n",
    "     a = 234\n",
    "     bbb = -754.21\n",
    "     cats = \"cats\"\n",
    "     d = [1, 2, 3]\n",
    "\n",
    "Nun kann mithilfe des Variablennamens der Wert der Variable jederzeit abgerufen werden."
   ]
  },
  {
   "cell_type": "code",
   "execution_count": 2,
   "metadata": {},
   "outputs": [],
   "source": [
    "#Definieren Sie eine Variable mit dem Namen meineErsteVariable mit dem Wert \"was für eine schöne Variable\". \n",
    "#Können Sie den Typ der Variable bestimmen?"
   ]
  },
  {
   "cell_type": "markdown",
   "metadata": {},
   "source": [
    "## 1 Übung\n",
    "\n",
    "Lösen Sie folgende Aufgaben eigenständig. Nutzen Sie dabei die Pythonfunktionen hier im Notebook. Beachten Sie allerdings, dass dabei jede Eingabe eine eigene Zeile braucht (warum das so ist, besprechen wir später).\n",
    "\n",
    "**Übung 1.1:** Bestimmen Sie den Datentyp von folgenden Daten: \n",
    "     \n",
    "     'Sonnenschein', 382.22, 99, 77.00, [23, 77, 18], -14, \"235\", \"False\", False\n",
    "\n",
    "**Übung 1.2:** Welche der folgenden Angaben werden beim Ausführen einen Fehler hervorrufen?\n",
    "\n",
    "     'Was ist ein \"Laser\"?', 77,22, [56.88; 88.23; \"stark\"], F\n",
    "\n",
    "**Übung 1.3:** \n",
    "- Definiere eine Variable names xyz mit dem Wert 700. \n",
    "- Weise der Variable xyz einen neuen Wert zu: \"text\".\n",
    "- Vom welchen Typ ist die Variable nun?"
   ]
  },
  {
   "cell_type": "code",
   "execution_count": 2,
   "metadata": {},
   "outputs": [],
   "source": [
    "#Hier können Sie Ihren eigenen Code schreiben, um die Aufgaben zu Lösen\n"
   ]
  },
  {
   "cell_type": "markdown",
   "metadata": {},
   "source": [
    "*Wenn Sie mit den Aufgaben nicht weiterkommen oder Ihre Ergebnisse verifizieren wollen, verwenden Sie MS Teams.*"
   ]
  }
 ],
 "metadata": {
  "kernelspec": {
   "display_name": "Python 3",
   "language": "python",
   "name": "python3"
  },
  "language_info": {
   "codemirror_mode": {
    "name": "ipython",
    "version": 3
   },
   "file_extension": ".py",
   "mimetype": "text/x-python",
   "name": "python",
   "nbconvert_exporter": "python",
   "pygments_lexer": "ipython3",
   "version": "3.7.6"
  }
 },
 "nbformat": 4,
 "nbformat_minor": 4
}
