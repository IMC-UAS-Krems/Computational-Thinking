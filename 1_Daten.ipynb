{
  "cells":[
    {
      "cell_type":"code",
      "source":[
        
      ],
      "execution_count":0,
      "outputs":[
        
      ],
      "metadata":{
        
      }
    },
    {
      "cell_type":"markdown",
      "source":[
        "# 1 Daten\n",
        "Eine wichtige Aufgabe von Programmen ist die Verarbeitung von Daten. \n",
        "\n",
        "# 1.1 Datentypen\n",
        "\n",
        "Programmiersprachen können verschiedene Datentypen handhaben. Je nachdem, welchen Datentyp die Daten haben, unterscheidet sich ihre Verarbeitung: so können Zahlen addiert werden, während im Text nach Buchstabenabfolgen gesucht werden kann. Die nachfolgend aufgelisteten Datentypen stellen die wichtigsten Datentypen dar, die Sie für Ihre Arbeit mit Python in diesem Kurs brauchen werden.\n",
        "\n",
        "**Einfache Datentypen**\n",
        "\n",
        "- *int* (integer): Dieser Datentyp beschreibt sind ganze Zahlen, wie 2, 198852, aber auch -123.\n",
        "- *float* (floating-point number): Dies sind Zahlen im dezimalen Format. Damit sie Python erkennt, müssen sie als dezimale Zahlen eingegeben werden, wie 4.25, 7.399, oder -4.0; beachten Sie, dass Python einen Punkt zur Kennzeichnung der Dezimalstellen verwendet. Die Verwendung eines Beistrichs bzw. eines Kommas, führt zu einem anderen Ergebnis bzw. einem Fehler.\n",
        "- *string*: Dieser Datentyp beschreibt eine Zeichenkette, also jegliche Text, die auch Zahlen beinhalten dürfen. Damit sie Python erkennt, werden sie in Anführungsstrichen angegeben, wie \"Auto\", \"Jahr 2000\" aber auch 'Mein Tagebuch'.\n",
        "- *bool* (Boolean value): Dieser Datentyp erkennt zwei logische Werte - True (wahr) und False (falsch); er ist vor allem bei Vergleichen und logischen Operationen wichtig.\n",
        "\n",
        "Probieren wir es mal. Was glauben Sie, von welchem Typ sind folgende Daten?\n",
        "\n",
        "- -985.33\n",
        "- 123\n",
        "- False\n",
        "- 'Python'\n",
        "- 239,22\n",
        "\n",
        "Wenn Sie sich nicht sicher sind, können Sie jederzeit auch die Pythonfunktion type() nutzen. Wenn Sie einen Wert in die Klammern schreiben, wird der Datentyp vom diesen Wert ausgegeben."
      ],
      "metadata":{
        
      }
    },
    {
      "cell_type":"code",
      "source":[
        "type(-985.33)"
      ],
      "execution_count":4,
      "outputs":[

      ],
      "metadata":{
        
      }
    },
    {
      "cell_type":"markdown",
      "source":[
        "Ist es Ihnen aufgefallen?  \n",
        "- Python erkennt den Datentyp der Werte eigenständig - Sie müssen ihn nicht definieren (was in vielen anderen Programmiersprachen der Fall ist). Das bedeutet aber, dass es Ihre Aufgabe ist, die Werte so anzugeben, dass Python richtige Schlüsse ziehen kann (z.B. 46.0 statt 46, wenn Sie mit Daten vom Typ *float* arbeiten wollen).  \n",
        "- Python reagiert auf Groß- und Kleinschreibung (False ist nicht dasselbe wie false).\n",
        "\n",
        "\n",
        "**Zusammengesetzte Datentypen**\n",
        "\n",
        "Man kann einfache Datentypen in Datenmengen gruppieren - beispielsweise ist ein string eigentlich bereits eine zusammensetzte Menge an einzelnen Zeichen. Python bietet verschieden Arten von zusammengesetzten Datentypen, wir werden uns in dieser Veranstaltung allerdings nur einer bedienen: den Listen. Eine Liste ist eine geordnete, veränderbare Folge an Datenelementen. Sie wird durch eckige Klammer kenntlich gemacht und die Elemente werden mit Kommas getrennt. \n",
        " - [2, 5, 7, 3]\n",
        " - [\"pferd\", -345.55, True]\n",
        "\n",
        "Eine Liste kann Elemente vom verschiedenen Datentyp beinhalten. Sie ist \"geordnet\", da jedes Element einen festen, zählbaren Platz hat. Und sie ist veränderbar, da es möglich ist Elemente zu löschen oder hinzuzufügen. Wie man mit Listen arbeitet, sehen Sie später.\n",
        "\n",
        "Probieren Sie jetzt, welchen Datentyp für die folgende Angabe von Python erkannt wird.\n",
        "\n",
        "Python kennt auch andere zusammengesetzte Datentypen, die wir in diesem Kurs nicht behandeln, z.B. die nicht-veränderbaren [Tupel](https:\/\/www.w3schools.com\/python\/python_tuples.asp), ungeordnete [Sets](https:\/\/www.w3schools.com\/python\/python_sets.asp) oder komplexe [Dictionaries](https:\/\/www.w3schools.com\/python\/python_dictionaries.asp). "
      ],
      "metadata":{
        
      }
    },
    {
      "cell_type":"code",
      "source":[
        "type([\"pferd\", -345.55, True])"
      ],
      "execution_count":5,
      "outputs":[
 
      ],
      "metadata":{
        
      }
    },
    {
      "cell_type":"markdown",
      "source":[
        "# 1.2 Variablen\n",
        "\n",
        "Nur Daten eingeben und ihren Typ bestimmen zu können reicht natürlich nicht - wir wollen die Daten auch speichern können, damit wir mit ihnen auch später arbeiten können. Hierzu verwenden wir Variablen. \n"
      ],
      "metadata":{
        
      }
    },
    {
      "cell_type":"code",
      "source":[
        "#Nehmen Sie einmal an, eine Variable mit dem Namen X enthält den Integer Wert 5.\n",
        "X=5\n",
        "\n",
        "#Dann sollten die folgenden beiden Ausdrücke das selbe Ergebnis liefern:\n",
        "\n",
        "type(1)\n",
        "\n",
        "type(X)\n",
        "\n",
        "#Das ist logisch, weil in der Variable X ja ein Integer Datenwert gespeichert ist. \""
      ],
      "execution_count":0,
      "outputs":[
        
      ],
      "metadata":{
        
      }
    },
    {
      "cell_type":"markdown",
      "source":[
        "**Werte zuweisen**\n",
        "\n",
        "Eine Variable hat eine Namen und eine Wert. Um einer Variable einen Wert zuzuweisen, verwendet man den Zuweisungsoprator =. Eine Zuweisung hat folgende Form:\n",
        "\n",
        "     <variablenname> = <variablenwert>\n",
        "\n",
        "     a = 234\n",
        "     bbb = -754.21\n",
        "     cats = \"cats\"\n",
        "     d = [1, 2, 3]\n",
        "\n",
        "Nun kann mithilfe des Variablennamens der Wert der Variable jederzeit abgerufen werden.\n",
        "\n",
        "Ebenso kann einer existierenden Variable jederzeit ein neuer Wert zugewiesen werden."
      ],
      "metadata":{
        
      }
    },
    {
      "cell_type":"code",
      "source":[
        "#Definieren Sie eine Variable mit dem Namen meineErsteVariable mit dem Wert \"was für eine schöne Variable\". \n",
        "#Können Sie den Typ der Variable bestimmen?\n",
        "\n",
        "\n",
        "\n",
        "#Nun weisen Sie der Variable einen neuen Wert zu."
      ],
      "execution_count":1,
      "outputs":[
        
      ],
      "metadata":{
        
      }
    }
  ],
  "metadata":{
    
  },
  "nbformat":4,
  "nbformat_minor":0
}
