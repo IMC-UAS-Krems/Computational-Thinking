{
  "cells":[
    {
      "cell_type":"code",
      "source":[
        
      ],
      "execution_count":0,
      "outputs":[
        
      ],
      "metadata":{
        
      }
    },
    {
      "cell_type":"markdown",
      "source":[
        "# 1 Daten\n",
        "Eine wichtige Aufgabe von Programmen ist die Verarbeitung von Daten. \n",
        "\n",
        "# 1.1 Datentypen\n",
        "\n",
        "Programmiersprachen können verschiedene Datentypen handhaben. Je nach dem, welchen Datentyp die Daten haben, kann das Programm sie auch verarbeiten: so können Zahlen addiert werden während im Text nach Buchstabenabfolgen gesucht werden kann. Folgende sind die wichtigsten Datentypen, die Sie für Ihre Arbeit mit Python in diesem Kurs brauchen werden.\n",
        "\n",
        "**Einfache Datentypen**\n",
        "\n",
        "- *int* (integer): Dieser Datentyp beschreibt sind ganze Zahlen, wie 2, 198852, aber auch -123.\n",
        "- *float* (floating-point number): Dies sind Zahlen im dezimalen Format und damit sie Python erkennt, müssen sie als dezimale Zahlen eingegeben werden, wie 4.25, 7.399, oder -4.0; beachten Sie, dass Python einen Dezimalpunkt verwendet - eine Dezimalkomma wird nicht erkannt.\n",
        "- *string*: Dieser Datentyp beschreibt eine Zeichenkette, also jegliche Text, die auch Zahlen beinhalten dürfen. Damit sie Python erkennt, werden sie in Anführungsstrichen angegeben, wie \"Auto\", \"Jahr 2000\" aber auch 'Mein Tagebuch'.\n",
        "- *bool* (Boolean value): Dieser Datentyp erkennt zwei logische Werte - True (wahr) und False (falsch); er ist vor allem bei Vergleichen und logischen Operationen wichtig.\n",
        "\n",
        "Probieren wir es mal. Was glauben Sie, von welchem Typ sind folgende Daten?\n",
        "\n",
        "- -985.33\n",
        "- 123\n",
        "- False\n",
        "- 'Python'\n",
        "- 239,22\n",
        "\n",
        "Wenn Sie sich nicht sicher sind, können Sie jederzeit auch die Pythonfunktion type() nutzen."
      ],
      "metadata":{
        
      }
    },
    {
      "cell_type":"code",
      "source":[
        "type(-985.33)"
      ],
      "execution_count":4,
      "outputs":[
        {
          "data":{
            "text\/plain":[
              "float"
            ]
          },
          "metadata":{
            
          },
          "output_type":"display_data"
        }
      ],
      "metadata":{
        
      }
    },
    {
      "cell_type":"markdown",
      "source":[
        "Ist es Ihnen aufgefallen? Python erkennt den Datentyp eigenständig - Sie müssen ihn nicht definieren.\n",
        "\n",
        "**Zusammengesetzte Datentypen**\n",
        "\n",
        "Man kann einfache Datentypen in Datenmengen gruppieren - beispielsweise ist ein string eigentlich bereits eine zusammensetzte Menge an einzelnen Zeichen. Python bietet verschieden Arten von zusammengesetzten Datentypen, wir werden uns in dieser Veranstaltung allerdings nur einer bedienen: den Listen. Eine Liste ist eine geordnete, veränderbare Menge an Datenelementen. Sie wird durch eckige Klammer kenntlich gemacht und die Elemente werden mit Kommas getrennt. \n",
        " - [2, 5, 7, 3]\n",
        " - [\"pferd\", -345.55, True]\n",
        "\n",
        "Eine Liste kann Elemente vom verschiedenen Datentyp beinhalten. Sie ist \"geordnet\", da jeder Element einen festen, zählbaren Platz hat. Und sie ist veränderbar, da es möglich ist Elemente zu löschen oder hinzuzufügen. Wie man mit Listen arbeitet, sehen Sie später.\n",
        "\n",
        "Probieren Sie jetzt, welchen Datentyp für die folgende Angabe von Python erkannt wird."
      ],
      "metadata":{
        
      }
    },
    {
      "cell_type":"code",
      "source":[
        "type([\"pferd\", -345.55, True])"
      ],
      "execution_count":5,
      "outputs":[
        {
          "data":{
            "text\/plain":[
              "list"
            ]
          },
          "metadata":{
            
          },
          "output_type":"display_data"
        }
      ],
      "metadata":{
        
      }
    },
    {
      "cell_type":"markdown",
      "source":[
        "# 1.2 Variablen\n",
        "\n",
        "Nur Daten eingeben und ihren Typ bestimmen zu können reicht natürlich nicht - wir wollen die Daten auch speichern können, damit wir mit ihnen auch später arbeiten können. Hierzu verwenden wir Variablen. \n",
        "\n",
        "Eine Variable hat eine Namen und eine Wert. Um einer Variable einen Wert zuzuweisen, verwendet man den Zuweisungsoprator =. Eine Zuweisung hat folgende Form:\n",
        "\n",
        "     <variablenname> = <variablenwert>\n",
        "\n",
        "     a = 234\n",
        "     bbb = -754.21\n",
        "     cats = \"cats\"\n",
        "     d = [1, 2, 3]\n",
        "\n",
        "Nun kann mithilfe des Variablennamens der Wert der Variable jederzeit abgerufen werden."
      ],
      "metadata":{
        
      }
    },
    {
      "cell_type":"code",
      "source":[
        "#Definieren Sie eine Variable mit dem Namen meineErsteVariable mit dem Wert \"was für eine schöne Variable\". \n",
        "#Können Sie den Typ der Variable bestimmen?"
      ],
      "execution_count":2,
      "outputs":[
        
      ],
      "metadata":{
        
      }
    }
  ],
  "metadata":{
    
  },
  "nbformat":4,
  "nbformat_minor":0
}