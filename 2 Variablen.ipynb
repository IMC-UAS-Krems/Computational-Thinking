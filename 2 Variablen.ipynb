{
  "cells":[
    {
      "cell_type":"markdown",
      "source":[
        "# 2 Variablen"
      ],
      "metadata":{
        
      }
    }
  ],
  "metadata":{
    
  },
  "nbformat":4,
  "nbformat_minor":0
}