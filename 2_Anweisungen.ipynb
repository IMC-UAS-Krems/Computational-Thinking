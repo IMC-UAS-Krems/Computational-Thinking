{
  "cells":[
    {
      "cell_type":"code",
      "source":[
        
      ],
      "execution_count":6,
      "outputs":[
        
      ],
      "metadata":{
        
      }
    },
    {
      "cell_type":"markdown",
      "source":[
        "# 2 Anweisungen\n",
        "\n",
        "Man könnte sagen, dass Anweisungen der kleinste Baustein eines Programms sind: sie bechreiben einen Schritt, der durch das Programm durchgeführt werden soll. In Python, repräsentieren Sie (vereinfacht gesagt) eine Zeile Code. Anweisungen können verschiedene Aufgaben im Programm haben:\n",
        "\n",
        "- Kommentare\n",
        "- Zuweisungen\n",
        "- Aufrufe\n",
        "- Berechnungen\n",
        "- Vergleiche\n",
        "\n",
        "## 2.1 Kommentare\n",
        "\n",
        "Kommentare sind Anweisungen, die dem Interpreter befehlen, die nachfolgenden Wörter und Zeichen zu ignorieren. Kommentare werden von den Programmierern verwendet um sich Notizen zu machen oder Hinweise für andere Programmierer zu hinterlassen. Um in Python zu kommentieren, starten Sie die Kommentarzeile mit **#**."
      ],
      "metadata":{
        
      }
    },
    {
      "cell_type":"code",
      "source":[
        "#Das hier ist ein Kommentar. Und jetzt Sie - erstellen Sie ein Kommentar und schauen Sie, was beim Ausführen passiert."
      ],
      "execution_count":7,
      "outputs":[
        
      ],
      "metadata":{
        
      }
    },
    {
      "cell_type":"markdown",
      "source":[
        "## 2.2 Zuweisungen\n",
        "\n",
        "Zuweisungen sind Ihnen bereits bekannt. Wiederholen Sie, was Sie in 1.2 gelernt haben:"
      ],
      "metadata":{
        
      }
    },
    {
      "cell_type":"code",
      "source":[
        "#Erstellen Sie eine Variable mit dem namen \"value\" und dem Wert 5.\n",
        "\n",
        "#Weisen Sie der Variable nun einen beliebigen anderen Wert zu."
      ],
      "execution_count":8,
      "outputs":[
        
      ],
      "metadata":{
        
      }
    },
    {
      "cell_type":"markdown",
      "source":[
        "## 2.3 Aufrufe\n",
        "\n",
        "Mithilfe von Aufrufen können Sie Funktionen, also definierte Befehlsabfolgen mit eigenem Name, starten. Später werden Sie lernen eigene Funktionen zu definieren, aber Python bietet Ihnen bereits etliche nützliche\n",
        "Funktionen.\n",
        "\n",
        "- Sie kennen bereits die Funktion **type()**, mit der Sie von Python erfragen können, von welchem Datentyp ein\n",
        "bestimmter Wert ist.\n",
        "- Eine weitere nützliche Funktion, ist **print()**. Sie bewirkt, dass ein Wert in der Konsole ausgegen wird.\n",
        "- Um Benutzereingaben zu ermöglichen, kann die Fuktion input() genutzt werden. Damit wird dem Nutzer ein Textfeld angezeigt in dem die oder er eine Textzeile eingeben kann. Diese Textzeile wird als String Datentyp von der Funktion zurückgegeben.  \n",
        "\n",
        "**Hinweis:** Gibt eine Funktion einen Wert zurück, kann Sie wie eine Variable, an einer bestimmten Stelle im Programmcode eingesetzt werden. An dieser Stelle wird die Funktion ausgewertet und dann mit dem zurückgelieferten Wert weitergearbeitet.\n",
        "\n",
        "Weitere vordefinierte Python Funktionen werden wir nach und nach dazu lernen. Probieren Sie es!"
      ],
      "metadata":{
        
      }
    },
    {
      "cell_type":"code",
      "source":[
        "#Fragen Sie die Nutzerin, wie alt Sie ist. Speichern Sie ihre Antwort in der variable \"name\". Hinweis: input()\n",
        "\n",
        "#Lassen Sie die gespeicherte Antwort der Nutzerin in der Konsole ausgeben. Hinweis: print()\n",
        "\n",
        "#Finden Sie heraus, von welchem Datentyp die Antwort ist. Hinweis type()"
      ],
      "execution_count":9,
      "outputs":[
        
      ],
      "metadata":{
        
      }
    },
    {
      "cell_type":"markdown",
      "source":[
        "Sehen Sie, wie sich die einzelnen Anweisungen zu einer sequenziellen Befehlsreihe anordnen lassen? Probieren Sie es nun selbst ohne die Zwischenschritte."
      ],
      "metadata":{
        
      }
    },
    {
      "cell_type":"code",
      "source":[
        "#Erfragen Sie das Altern der Nutzerin, speichern Sie ihn in einer Variable, geben Sie ihn in den Konsole aus und bestimmen Sie den Datentyp.\n"
      ],
      "execution_count":10,
      "outputs":[
        
      ],
      "metadata":{
        
      }
    },
    {
      "cell_type":"markdown",
      "source":[
        "Manchmal ist es nötig, einen Datentyp in einen anderen umzuwandeln. Auch hierfür stehen hilfreiche Grundfunktionen in Python Funktionen zur Verfügung:\n",
        "\n",
        "- **str()**: Wandelt einen eingegebenen Wert in einen String.\n",
        "- **int()**: Wandelt ein als String oder Float gespeicherte Zahl in Integer (ganze Zahl).\n",
        "- **float()**: Wandelt ein als String oder Integer gespeicherte Zahl in Float (Dezimalzahl).\n",
        "\n",
        "Probieren Sie es aus!"
      ],
      "metadata":{
        
      }
    },
    {
      "cell_type":"code",
      "source":[
        "x = '21'\n",
        "y = 6\n",
        "z = 7.0\n",
        "\n",
        "#Speichern Sie den Wert der Variable x als Integer in einer neuen Variable x_int. \n",
        "\n",
        "#Speichern Sie den Wert der Variable y als Float in einer neuen Variable y_float. \n",
        "\n",
        "#Speichern Sie den Wert der Variable z als String in einer neuen Variable z_string. \n",
        "\n",
        "\n",
        "#Überprüfen Sie, dass die Datentypen der neuen Variablen stimmen"
      ],
      "execution_count":11,
      "outputs":[
        
      ],
      "metadata":{
        
      }
    },
    {
      "cell_type":"markdown",
      "source":[
        "## 2.4 Berechnungen\n",
        "\n",
        "**Mathematische Operatoren**\n",
        "\n",
        "Python bietet Ihnen mehrere mathematische Operationen:\n",
        "\n",
        "- **+**: zwei Werte addieren\n",
        "- **-**: vom ersten Wert einen zweiten subtrahieren\n",
        "- **`*`**: zwei Werte multiplizieren\n",
        "- **\/**: einen Wert durch einen zweiten dividieren (genaues Ergebnis)\n",
        "- **\/\/**: einen Wert durch einen zweiten dividieren (Ergebnis als ganze Zahl, ohne Rest)\n",
        "- **%**: Rest einer Division\n",
        "- **(  )**: Klammern, wie in der Mathematik. Dienen zur Markierung von Berechnungsprioritäten.\n",
        "\n",
        "**Hinweis:** Auch in einem Programmcode gelten die Regeln der Mathematik. Z.B. Punkt vor Strichrechnung. Klammern helfern dann, wie in der Mathematik, Berechnungen vorzuziehen (zu priorisieren).\n",
        "\n",
        "Probieren Sie es aus!"
      ],
      "metadata":{
        
      }
    },
    {
      "cell_type":"code",
      "source":[
        "#Sehen Sie sich zuerst die Angaben an und schätzen Sie, wie das Ergebnis aussieht. Notieren Sie ihre Vermutungen als Kommentare.\n",
        "a=25+7\n",
        "b=27-7\n",
        "c=25*7\n",
        "d=25\/7\n",
        "e=25\/\/7\n",
        "f=25%7\n",
        "g=25+5*3\n",
        "h=(25+5)*3\n",
        "\n",
        "#Passen Sie jetzt den Code-Block so an, dass die Werte ausgegeben werden \n",
        "#Nun lassen Sie den Code-Block ausführen. Lagen Sie richtig?"
      ],
      "execution_count":12,
      "outputs":[
        
      ],
      "metadata":{
        
      }
    },
    {
      "cell_type":"markdown",
      "source":[
        "**Hinweis**\n",
        "\n",
        "In Python (und in anderen Programmiersprachen) ist es möglich den Wert einer Variable zu verändern und im selbsen Schritt den neuen Wert gleich wieder in der Variable speichern. \n",
        "\n",
        "     x = 7\n",
        "     x = x+3\n",
        "\n",
        "Es gibt sogar eine Kurzform für ausgewählte Operationen.\n",
        "\n",
        "     x += 3 #entspricht x = x+3\n",
        "     x -= 1 #entspricht x = x-1\n",
        "     x *= 4 #entspricht x = x*4\n",
        "     x \/= 2 #entspricht x = x\/2"
      ],
      "metadata":{
        
      }
    },
    {
      "cell_type":"code",
      "source":[
        "#Was werden folgende Operationen bewirken?\n",
        "\n",
        "x = 10\n",
        "print(x)\n",
        "\n",
        "x = x+8\n",
        "print(x)\n",
        "\n",
        "x += 2\n",
        "print(x)\n",
        "\n",
        "x -= 4\n",
        "print(x)\n",
        "\n",
        "x *=2\n",
        "print(x)\n",
        "\n",
        "x\/=4\n",
        "print(x)"
      ],
      "execution_count":2,
      "outputs":[
        {
          "name":"stdout",
          "text":[
            "10\n",
            "18\n",
            "20\n",
            "16\n",
            "32\n",
            "8.0\n"
          ],
          "output_type":"stream"
        }
      ],
      "metadata":{
        
      }
    },
    {
      "cell_type":"markdown",
      "source":[
        "**Logische Operatoren**\n",
        "\n",
        "Beim Programmieren können neben mathematischen Ausdrücken auch logische (Boolsche) Operationen eingesetzt werden. Diese Operationen können mit den logischen Werten True (wahr) und False (falsch) rechnen. Natürlich ist auch das Ergebnis selbst auch ein logischer Wert. Folgende Operationen stehen zur Verfügung:\n",
        "\n",
        "- **and**: Gibt den Wert *True* (wahr) zurück, wenn beide Operanden auch *True* (wahr) sind.\n",
        "- **or**: Gibt den Wert *True* (wahr) zurück, wenn zumindest einer der Operatoren auch *True* (wahr) ist.\n",
        "\n",
        "Die Operationen *and* und *or* nennt man binär, weil sie zwei Operanden brauchen (einen vor dem Operator, einen dahinter). Auch die mathematischen Berechnungsfunktionen im vorherigen Abschnitt sind binäre Operatoren.  \n",
        "Der Operator *not* (s.u.) bezieht sich aber nur auf den nachfolgenden Ausdruck. Er zählt daher zu den unären Operatoren.:\n",
        "\n",
        "- **not**: Nimmt den Wert eines Operanden und negiert ihn: ist der Operator *True* (wahr), wird *False* (falsch) zurückgegeben; ist der Operator *False* (falsch), wird *True* (wahr) zurückgegeben.\n",
        "\n",
        "Probieren Sie es aus."
      ],
      "metadata":{
        
      }
    },
    {
      "cell_type":"code",
      "source":[
        "#Definieren Sie eine Variable T mit dem Wert True und eine Variable F mit dem Wert False.\n",
        "\n",
        "\n",
        "\n",
        "#Sehen Sie sich zuerst die Angaben an und schätzen Sie, wie das Ergebnis aussieht. Notieren Sie ihre Vermutungen als Kommentare.\n",
        "T and F\n",
        "T or F\n",
        "not T\n",
        "not F\n",
        "not T or F\n",
        "not (T or F)"
      ],
      "execution_count":13,
      "outputs":[
        
      ],
      "metadata":{
        
      }
    },
    {
      "cell_type":"markdown",
      "source":[
        "**Verkettung von Strings**\n",
        "\n",
        "Strings lassen sich nicht addieren oder multiplizieren, aber sie können **verkettet* werden. Dazu nimmt man auch das + Symbol.\n",
        "\n",
        "     name = \"Max\" + \"Mustermann\"\n",
        "\n",
        "Probieren Sie es!"
      ],
      "metadata":{
        
      }
    },
    {
      "cell_type":"code",
      "source":[
        "#Was kommt in dem Beipiel raus?\n",
        "name = \"Max\" + \"Mustermann\"\n",
        "print(name)"
      ],
      "execution_count":2,
      "outputs":[
        {
          "name":"stdout",
          "text":[
            "MaxMustermann\n",
            "MaxMustermann\n"
          ],
          "output_type":"stream"
        }
      ],
      "metadata":{
        
      }
    },
    {
      "cell_type":"code",
      "source":[
        "#Leerzeichen müssen auch explizit angegeben werden. Korrigieren Sie folgende Anweisung entsprechend:\n",
        "print(\"Max\"+\"Mustermann\")"
      ],
      "execution_count":0,
      "outputs":[
        
      ],
      "metadata":{
        
      }
    },
    {
      "cell_type":"code",
      "source":[
        "#Auf dieser Weise können die Ergebnisse von zwei Variablen miteinander verknüpft ausgegeben werden. \n",
        "vorname = \"Max\"\n",
        "nachname = \"Mustermann\"\n",
        "\n",
        "#Wie würden Sie nun den vollen Namen ausgeben lassen?"
      ],
      "execution_count":0,
      "outputs":[
        
      ],
      "metadata":{
        
      }
    },
    {
      "cell_type":"markdown",
      "source":[
        "Aber vorsicht! Wenn Sie mehrere Werte oder Variablen verknüpfen und als String ausgeben wollen, muss der jeweilige Zahlen-Datentyp zuvor in einen String-Datentyp transformiert werden (siehe Kapitel 2.3)."
      ],
      "metadata":{
        
      }
    },
    {
      "cell_type":"code",
      "source":[
        "a = 5\n",
        "b = 6\n",
        "ergebnis = a * b\n",
        "print(\"Das Ergebnis ist \"+ergebnis+\"!\")\n",
        "#Wie können Sie die Angabe oben korriegern, damit sie fehlerfrei durchläuft?"
      ],
      "execution_count":0,
      "outputs":[
        
      ],
      "metadata":{
        
      }
    },
    {
      "cell_type":"markdown",
      "source":[
        "## 2.5 Vergleiche\n",
        "\n",
        "Python bietet auch die Möglichkeit zwei Werte (v.a. Zahlen, aber auch Strings und logische  Werte) miteinander zu vergleichen. Das Ergebnis wird als logischer Wert (True oder False) ausgegeben. Dazu dienen folgende Operationen:\n",
        "\n",
        "- **`==`** : Sind die zwei Werte gleich? (Bechten Sie den Unterschied zwischen dem Zuweisungssymbol = und dem Gleichheitssymbol ==.)\n",
        "- **`!=`** : Sind die zwei Werte unterschiedlich?\n",
        "- **`>`** : Ist der erste Wert größer als der zweite?\n",
        "- **`>=`** : Ist der erste Wert gleich oder größer als der zweite?\n",
        "- **`<`** : Ist der erste Wert kleiner als der zweite?\n",
        "- **`<=`**: Ist der erste Wert gleich oder kleiner als der zweite?\n",
        "\n",
        "Alle obigen Vergleichsoperatoren können für Zahlen (int, float) eigesetzt werden. Bei Strings und logischen operatoren können Sie verlgeichen, ob sie gleich (==) oder ungleich (!=) sind.\n",
        "\n",
        "Probieren Sie es!"
      ],
      "metadata":{
        
      }
    },
    {
      "cell_type":"code",
      "source":[
        "zahl1 = 375.0\n",
        "zahl2 = 375\n",
        "zahl3 = 40\n",
        "zahl4 = 545.92\n",
        "\n",
        "#Sehen Sie sich zuerst die Angaben an und schätzen Sie, wie das Ergebnis aussieht. Notieren Sie ihre Vermutungen als Kommentare.\n",
        "zahl1 == zahl2\n",
        "zahl2 != zahl3\n",
        "zahl4 < zahl3\n",
        "zahl4 >= zahl1\n",
        "zahl1 <= zahl2\n",
        "zahl3 > zahl2\n",
        "\n",
        "#lassen Sie sich jetzt die Antworten ausgeben."
      ],
      "execution_count":0,
      "outputs":[
        
      ],
      "metadata":{
        
      }
    }
  ],
  "metadata":{
    
  },
  "nbformat":4,
  "nbformat_minor":0
}
