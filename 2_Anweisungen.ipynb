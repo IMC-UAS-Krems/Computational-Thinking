{
  "cells":[
    {
      "cell_type":"code",
      "source":[
        
      ],
      "execution_count":6,
      "outputs":[
        
      ],
      "metadata":{
        
      }
    },
    {
      "cell_type":"markdown",
      "source":[
        "# 2 Anweisungen\n",
        "\n",
        "Man könnte sagen, dass Anweisungen der kleinste Baustein eines Programms sind: sie bechreiben einen Schritt, der durch das Programm durchgeführt werden soll. In Python, repräsentieren Sie (vereinfacht gesagt) eine Zeile Code. Anweisungen können verschiedene Aufgaben im Programm haben:\n",
        "\n",
        "- Kommentare\n",
        "- Zuweisungen\n",
        "- Aufrufe\n",
        "- Berechnungen\n",
        "- Vergleiche\n",
        "\n",
        "## 2.1 Kommentare\n",
        "\n",
        "Kommentare sind eigentlich Anweisungen, die dem Programm befehlen nichts zu machen: sie zu ignorieren. Sie sind für die Ausführung irrelevant, aber ermöglichen den Programmierern, dass Sie Hinweise für sich oder für andere Programmierer hinterlassen. Um in Python zu kommentieren, starten Sie die Kommentarzeile mit **#**."
      ],
      "metadata":{
        
      }
    },
    {
      "cell_type":"code",
      "source":[
        "#Das hier ist ein Kommentar. Und jetzt Sie - erstellen Sie ein Kommentar und schauen Sie, was beim Ausführen passiert."
      ],
      "execution_count":7,
      "outputs":[
        
      ],
      "metadata":{
        
      }
    },
    {
      "cell_type":"markdown",
      "source":[
        "## 2.2 Zuweisungen\n",
        "\n",
        "Zuweisungen sind Ihnen bereits bekannt. Wiederholen Sie:"
      ],
      "metadata":{
        
      }
    },
    {
      "cell_type":"code",
      "source":[
        "#Erstellen Sie eine Variable mit dem namen \"value\" und dem Wert 5."
      ],
      "execution_count":8,
      "outputs":[
        
      ],
      "metadata":{
        
      }
    },
    {
      "cell_type":"markdown",
      "source":[
        "## 2.3 Aufrufe\n",
        "\n",
        "Mithilfe von Aufrufen können Sie Funktionen, also vordefinierte Befehle, starten. Python bietet bereits etliche nütliche Funktionen. \n",
        "\n",
        "- Sie kennen bereits die Funktion **type()**, mit der Sie von Python erfragen können, von welchem Datentyp ein bestimmter Wert ist.\n",
        "- Die nächste nützliche Funktion, ist **print()**, die Bewirkt, dass ein Wert in der Konsole ausgegen wird.\n",
        "- Für Nutzerinteraktion ist auch die Funktion **input()**, mit der dem Nuzter eine Frage gestellt wird und seine Antwort wird dann erfasst (z.B. in einer Variable gespeichert.)\n",
        "\n",
        "Weitere Funktionen werden wir nach und nach dazu lernen. Probieren Sie es!"
      ],
      "metadata":{
        
      }
    },
    {
      "cell_type":"code",
      "source":[
        "#Fragen Sie die Nutzerin, wie alt Sie ist. Speichern Sie ihre Antwort in der variable \"name\". Hinweis: input()\n",
        "\n",
        "#Lassen Sie die gespeicherte Antwort der Nutzerin in der Konsole ausgeben. Hinweis: print()\n",
        "\n",
        "#Finden Sie heraus, von welchem Datentyp die Antwort ist. Hinweis type()"
      ],
      "execution_count":9,
      "outputs":[
        
      ],
      "metadata":{
        
      }
    },
    {
      "cell_type":"markdown",
      "source":[
        "Sehen Sie, wie sich die einzelnen Anweisungen zu einer sequenziellen Befehlsreihe anordnen lassen? Probieren Sie es nun selbst ohne die Zwischenschritte."
      ],
      "metadata":{
        
      }
    },
    {
      "cell_type":"code",
      "source":[
        "#Erfragen Sie den Altern der Nutzerin, speichern Sie ihn in einer Variable, geben Sie ihn in den Konsole aus und bestimmen Sie den Datentyp.\n"
      ],
      "execution_count":10,
      "outputs":[
        
      ],
      "metadata":{
        
      }
    },
    {
      "cell_type":"markdown",
      "source":[
        "Manchmal ist es nötig, einen Datentyp in ein anderes umzuwandeln. Auch hier stehen hilfreiche Python Funktionen zur Verfügung.\n",
        "\n",
        "- **string()**: Wandelt einen eingegebenen Wert in einen String.\n",
        "- **int()**: Wandelt ein als String oder Float gespeicherte Zahl in Integer (ganze Zahl).\n",
        "- **float()**: Wandelt ein als String oder Integer gespeicherte Zahl in Float (Dezimalzahl).\n",
        "\n",
        "Probieren Sie es."
      ],
      "metadata":{
        
      }
    },
    {
      "cell_type":"code",
      "source":[
        "x = '21'\n",
        "y = 6\n",
        "z = 7.0\n",
        "\n",
        "#Speichern Sie den Wert der Variable x als Integer in einer neuen Variable x_int. \n",
        "\n",
        "#Speichern Sie den Wert der Variable y als Integer in einer neuen Variable y_float. \n",
        "\n",
        "#Speichern Sie den Wert der Variable z als Integer in einer neuen Variable z_string. \n",
        "\n",
        "\n",
        "#Überprüfen Sie, dass die Datentypen der neuen Variablen stimmen"
      ],
      "execution_count":11,
      "outputs":[
        
      ],
      "metadata":{
        
      }
    },
    {
      "cell_type":"markdown",
      "source":[
        "## 2.4 Berechnungen\n",
        "\n",
        "Python bietet Ihnen mehrere **mathematische Operationen**:\n",
        "\n",
        "- **+**: zwei Werte addieren\n",
        "- **-**: vom ersten Wert einen zweiten subtrahieren\n",
        "- **`*`**: zwei Werte multiplizieren\n",
        "- **\/**: einen Wert durch einen zweiten dividieren (genaues Ergebnis)\n",
        "- **\/\/**: einen Wert durch einen zweiten dividieren (Ergebnis als ganze Zahl, ohne Rest)\n",
        "- **%**: Rest einer Division\n",
        "- **()**: markieren Berechnungsprioritäten\n",
        "\n",
        "Probieren Sie es aus!"
      ],
      "metadata":{
        
      }
    },
    {
      "cell_type":"code",
      "source":[
        "#Sehen Sie sich zuerst die Angaben an und schätzen Sie, wie das Ergebnis aussieht. Notieren Sie ihre Vermutungen als Kommentare.\n",
        "a=25+7\n",
        "b=27-7\n",
        "c=25*7\n",
        "d=25\/7\n",
        "e=25\/\/7\n",
        "f=25%7\n",
        "g=25+5*3\n",
        "h=(25+5)*3\n",
        "\n",
        "#Passen Sie jetzt den Code-Block so an, dass die Werte ausgegeben werden \n",
        "#Nun lassen Sie den Code-Block ausführen. Lagen Sie richtig?"
      ],
      "execution_count":12,
      "outputs":[
        
      ],
      "metadata":{
        
      }
    },
    {
      "cell_type":"markdown",
      "source":[
        "Beim Programmieren sind außerdem logische (Boolsche) Operationen nützlich. Diese nehmen als Operatoren Boolsche Werte, also True (wahr) und False (falsch). Ihr Ergebnis ist auch ein Boolscher Wert. Folgende Operationen stehen zur Verfügung:\n",
        "\n",
        "- **and**: Gibt den Wert *True* (wahr)zurück, wenn beide Operatoren auch *True* (wahr) sind.\n",
        "- **or**: Gibt den Wert *True* (wahr)zurück, wenn zumindest einer der Operatoren auch *True* (wahr) ist.\n",
        "\n",
        "Die Operationen *and* und *or* sind binär, da sie zwei Operatoren brauchen. Python nutzt auch die unäre Operation *not*:\n",
        "\n",
        "- **not**: Nimmt den Wert eines Operators und negiert ihn: ist der Operator *True* (wahr), wird *False* (falsch) zurückgegeben; ist der Operator *False* (falsch), wird *True* (wahr) zurückgegeben.\n",
        "\n",
        "Probieren Sie es aus."
      ],
      "metadata":{
        
      }
    },
    {
      "cell_type":"code",
      "source":[
        "#Definieren Sie eine Variable T mit dem Wert True und eine Variable F mit dem Wert False.\n",
        "\n",
        "\n",
        "\n",
        "#Sehen Sie sich zuerst die Angaben an und schätzen Sie, wie das Ergebnis aussieht. Notieren Sie ihre Vermutungen als Kommentare.\n",
        "T and F\n",
        "T or F\n",
        "not T\n",
        "not F\n",
        "not T or F\n",
        "not (T or F)"
      ],
      "execution_count":13,
      "outputs":[
        
      ],
      "metadata":{
        
      }
    },
    {
      "cell_type":"markdown",
      "source":[
        "Strings lassen sich nicht addieren oder multiplizieren, aber sie können **verkettet* werden. Dazu nimmt man auch das + Symbol.\n",
        "\n",
        "     name = \"Max\" + \"Mustermann\"\n",
        "\n",
        "Probieren Sie es!"
      ],
      "metadata":{
        
      }
    },
    {
      "cell_type":"code",
      "source":[
        "#Was kommt in dem Beipiel raus?\n",
        "name = \"Max\" + \"Mustermann\"\n",
        "print(name)\n",
        "\n",
        "#Leereichen müssen auch explizit angegeben werden. Korrigieren Sie folgende Anweisung, damit sie den Namen richtig ausgibt:\n",
        "print(\"Max\"+\"Mustermann\")\n",
        "\n",
        "#Auf dieser Weise können die Ergebnisse von zwei Variablen verknüpft ausgegeben werden. Aber vorsicht, dafür müssen Sie alle als String formattiert sein.\n",
        "a = 5\n",
        "b = 6\n",
        "ergebnis = a * b\n",
        "\n",
        "#Wie würden Sie das Ergebnis wie folgt ausgeben? \"Das Ergebnis ist 30!\""
      ],
      "execution_count":2,
      "outputs":[
        {
          "name":"stdout",
          "text":[
            "MaxMustermann\n",
            "MaxMustermann\n"
          ],
          "output_type":"stream"
        }
      ],
      "metadata":{
        
      }
    },
    {
      "cell_type":"markdown",
      "source":[
        "## 2.5 Vergleiche\n",
        "\n",
        "Python bietet auch die Möglichkeit zwei Werte miteinander zu vergleichen. Das ergebnis wird als Boolscher Wert (True oder False) ausgegeben. Dazu dienen folgende Operationen:\n",
        "\n",
        "- **`==`** : Sind die zwei Werte gleich? (Bechten Sie den Unterschied zwischen dem Zuweisungssymbol = und dem Gleichheitssymbol ==.)\n",
        "- **`!=`** : Sind die zwei Werte unterschiedlich?\n",
        "- **`>`** : Ist der erste Wert größer als der zweite?\n",
        "- **`>=`** : Ist der erste Wert gleich oder größer als der zweite?\n",
        "- **`<`** : Ist der erste Wert kleiner als der zweite?\n",
        "- **`<=`**: Ist der erste Wert gleich oder kleiner als der zweite?\n",
        "\n",
        "Probieren Sie es!"
      ],
      "metadata":{
        
      }
    },
    {
      "cell_type":"code",
      "source":[
        "zahl1 = 375.0\n",
        "zahl2 = 375\n",
        "zahl3 = 40\n",
        "zahl4 = 545.92\n",
        "\n",
        "#Sehen Sie sich zuerst die Angaben an und schätzen Sie, wie das Ergebnis aussieht. Notieren Sie ihre Vermutungen als Kommentare.\n",
        "zahl1 == zahl2\n",
        "zahl2 != zahl3\n",
        "zahl4 < zahl3\n",
        "zahl4 >= zahl1\n",
        "zahl1 <= zahl2\n",
        "zahl3 > zahl2\n",
        "\n",
        "#lassen Sie sich jetzt die Antworten ausgeben."
      ],
      "execution_count":0,
      "outputs":[
        
      ],
      "metadata":{
        
      }
    }
  ],
  "metadata":{
    
  },
  "nbformat":4,
  "nbformat_minor":0
}