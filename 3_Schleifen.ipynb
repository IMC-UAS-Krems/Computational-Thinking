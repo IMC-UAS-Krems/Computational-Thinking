{
  "cells":[
    {
      "cell_type":"code",
      "source":[
        
      ],
      "execution_count":0,
      "outputs":[
        
      ],
      "metadata":{
        
      }
    },
    {
      "cell_type":"markdown",
      "source":[
        "# 3 Schleifen\n",
        "\n",
        "Manchmal ist es im Programm nötig, dass eine Anweisung wiederholt wird. In einfachen Fällen könnte man dies durch eine wiederholte Eingabe der Anweisungsfolge lösen, aber manchmal kann man nicht vorhersehen, wie oft die Abgolge wiederholt werden soll."
      ],
      "metadata":{
        
      }
    },
    {
      "cell_type":"markdown",
      "source":[
        "**Hinweis**\n",
        "\n",
        "In Python (und in anderen Programmiersprachen) ist es möglich den Wert einer Variable zu verändern und im selbsen Schritt den neuen Wert gleich wieder in der Variable speichern. \n",
        "\n",
        "     x = 7\n",
        "     x = x+3\n",
        "\n",
        "Es gibt sogar eine Kurzform für ausgewählte Operationen.\n",
        "\n",
        "     x += 3 #entspricht x = x+3\n",
        "     x -= 1 #entspricht x = x-1\n",
        "     x *= 4 #entspricht x = x*4\n",
        "     x \/= 2 #entspricht x = x\/2\n"
      ],
      "metadata":{
        
      }
    },
    {
      "cell_type":"code",
      "source":[
        "#Beispiel 1: einfachen Wiederholung\n",
        "#Sie sollen eine Variable mit einem Wert 0 definieren. \n",
        "#Dann addieren Sie die Zahl 5 zu der Variable, speichern den neuen Wert (siehe Hinweis) und geben den neune Wert aus.\n",
        "#Das alles wiederholen Sie drei Mal.\n"
      ],
      "execution_count":0,
      "outputs":[
        
      ],
      "metadata":{
        
      }
    },
    {
      "cell_type":"code",
      "source":[
        "#Beispiel 2: unklare Wiederholung\n",
        "#Suchen Sie sich eine beliebige ganze Zahl zwischen 1 und 10 aus und speichern sie ihn in einer Variable.\n",
        "#Lassen Sie den Nutzer raten, was die Zahl sein könnte (input) und speichern Sie die Eingabe in einer anderen Variable. \n",
        "#Prüfen Sie, ob der Nutzer recht hatte und geben Sie das Ergebnis aus. Wiederholen Sie, bis der Nutzer recht hatte.\n",
        "\n",
        "\n",
        "#Den zweiten Beispiel können Sie ohne eine Schleife nicht lösen, da Sie nicht wissen, wie viele versuche der Nutzer braucht."
      ],
      "execution_count":0,
      "outputs":[
        
      ],
      "metadata":{
        
      }
    },
    {
      "cell_type":"markdown",
      "source":[
        "Ein Schleife definiert eine Abfolge von Anweisungen, die wiederholt werden soll. Python bietet zwei Arten von Schleifen: **while-Schleifen**, bei denen die Anweisungen wiederholt werden, bis eine Bedingung erfüllt ist, und **for-Schleifen**, bei der Anweisungen für jedes Element einer Liste wiederholt werden. \n",
        "\n",
        "**Vorsicht:** Es ist leicht möglich Schleifen zu definieren, die für immer und ewig wiederholt werden. Dass kann zu einer Belastung des Systems führen und sollte vermieden werden.\n",
        "\n",
        "# 3.1 while-Schleife\n",
        "\n",
        "Die while-Schleife nutzt eine Bedingung um zu entscheiden, oder die in ihr definierten Anweisungen durchgeführt werden sollen. Die Bedingung, z.B. ein Vergleich, wird ausgewertet. Wenn das Ergebnis der Auswertung wahr (True) ist, werden die Anweisungen in der Schleife durchgeführt. Wird die Bedingung als falsch (False) ausgewertet, werden die Anweisungen in der Schleife ignoriert und das Programm bearbeitet die Anweisungen, die der Schleife folgen.\n",
        "\n",
        "Eine while-Schleife hat folgende Form:\n",
        "\n",
        "     while Bedingung:\n",
        "         Anweisung\n",
        "\n",
        "Also z.B.:\n",
        "\n",
        "     while count < 3:\n",
        "        print(count)\n",
        "        count += 1\n",
        "\n",
        "**Blöcke**\n",
        "\n",
        "In dem obigen Code sehen Sie, wie Python Einrückungen verwendet um **Blöcke** von Code zu definieren. Der Doppelpunkt hinter der Bedinungen weisen darauf hin, dass nun ein Block folgt mit Anweisungen, die innerhalb der Schleife auszuführen sind. Die Einrückung zeigt welchen Anweisungen zu diesen Block gehören (sie sind eben gleich eingerückt). \n",
        "\n",
        "Um die Art und Weise, wie man diese Einrückung erstellt wird heiß diskutiert. In dieser Veranstaltung **verwenden wir fürs einfache Einrücken genau ***4*** Leerzeichen**."
      ],
      "metadata":{
        
      }
    },
    {
      "cell_type":"code",
      "source":[
        "#Probieren wir nun noch Mal das komplexe Beispiel 2:\n",
        "# -----------------\n",
        "#Suchen Sie sich eine beliebige ositive ganze Zahl zwischen 1 und 10 aus und speichern sie ihn in einer Variable.\n",
        "#Lassen Sie den Nutzer raten, was die Zahl sein könnte (input) und speichern Sie die Eingabe in einer anderen Variable. \n",
        "#Prüfen Sie, ob der Nutzer recht hatte und geben Sie das Ergebnis aus. Wiederholen Sie, bis der Nutzer recht hatte.\n",
        "# -----------------\n",
        "#Wir nutzen den Vergleich zwischen unserem Wert und der Nutzereingabe als Bedingung für die while-Schleife.\n",
        "\n"
      ],
      "execution_count":0,
      "outputs":[
        
      ],
      "metadata":{
        
      }
    },
    {
      "cell_type":"code",
      "source":[
        "#Geht auch das einfache Beispiel mit einer while-Schleife?\n",
        "# -----------------\n",
        "#Sie sollen eine Variable mit einem Wert 0 definieren. \n",
        "#Dann addieren Sie die Zahl 5 zu der Variable, speichern den neuen Wert (siehe Hinweis) und geben den neune Wert aus.\n",
        "#Das alles wiederholen Sie drei Mal.\n",
        "# -----------------\n",
        "#Wie werden eine Hilfsvariable brauchen, die für uns die Anzahl der Durchführungen zählt; wir nennen sie count.\n",
        "\n"
      ],
      "execution_count":0,
      "outputs":[
        
      ],
      "metadata":{
        
      }
    },
    {
      "cell_type":"code",
      "source":[
        "#Probieren Sie es noch Mal:\n",
        "#Teilen Sie dem Nutzer mit, dass Sie nun gerade positive Zahlen aufzählen werden. Fangen Sie mit 2 an. \n",
        "#Fragen Sie den Nutzer, ob die Aufzählung weitergehen soll, er soll mit \"ja\" oder \"nein\" antworten. \n",
        "#Hat der Nutzer \"ja\" gesagt, zeigen sie die nächste gerade Zahl.\n",
        "#Machen Sie mit der Aufzählung so lange weiter, bis der Nutzer \"nein\" eingegeben hat. \n"
      ],
      "execution_count":0,
      "outputs":[
        
      ],
      "metadata":{
        
      }
    },
    {
      "cell_type":"markdown",
      "source":[
        "# 3.2 for-Schleife\n",
        "\n",
        "Die for-Schleife arbeitet mit einer Liste und sie wiederholt sich (iteriert) so lange, bis alle Elemente der Liste \"abgearbeitet\" sind. Interessant ist, dass man dabei auf den aktuellen Listenelement zugreifen kann und ihn in dem Anweisungsblock verwenden könnte.\n",
        "\n",
        "Eine for-Schleife hat folgende Form:\n",
        "\n",
        "     for element in Liste: #dabei ist \"element\" ein Platzhalter für den jeweiligen Element und kann beliebigen Namen haben\n",
        "         Anweisung\n",
        "\n",
        "Also z.B.:\n",
        "\n",
        "     for tier in [\"Wolf\", \"Katze\", \"Hund\"]:\n",
        "        print(tier)\n",
        "        \n",
        "Wo bekommen Sie eine Liste her?\n",
        "- Sie können Sie in der Schleife definieren, was eher unüblich ist.\n",
        "- Sie können auf eine Variable verweisen, die vom Datentyp Liste ist\n",
        "- Sie können schnell eine Liste ganzer Zahlen mit der Funktion range(start, stop) definieren, z.B. range(1,5). Beachten Sie dabei, dass der Startwert inklusiv ist und der Stopwert exklusiv (also range(1,5)=[1,2,3,4]).\n",
        "- Ein String wird als Liste von Zeichen gesehen und kann auch für die Iteration eingesetzt werden.\n",
        "\n",
        "Probieren wir nun die Möglichkeiten aus."
      ],
      "metadata":{
        
      }
    },
    {
      "cell_type":"code",
      "source":[
        "#Fangen wir mit dem ersten Beispiel an, bei dem die Liste direkt in der Schleife definiert wird.\n",
        "#Was denken Sie wird das Ergebnis vom folgenden Code?\n",
        "for tier in [\"Wolf\", \"Katze\", \"Hund\"]:\n",
        "    print(tier)"
      ],
      "execution_count":1,
      "outputs":[
        
      ],
      "metadata":{
        
      }
    },
    {
      "cell_type":"code",
      "source":[
        "#Nun verwenden wir eine Liste, die in einer Variable gespeichert ist. \n",
        "liste = [\"Peter\", 17, [23, \"Zahl\"], -56.17]\n",
        "#Schreiben Sie eine Schleife, die nacheinander die Datentypen aller in der Liste gespeicherter Elemente ausgibt.\n"
      ],
      "execution_count":2,
      "outputs":[
        
      ],
      "metadata":{
        
      }
    },
    {
      "cell_type":"code",
      "source":[
        "#Nun verwenden wir die range(start, stop) Funktion um uns eine abgezählte Liste schnell zu erstellen. Dafür bearbeiten wir zwei Beispiele.\n",
        "#Beispiel 1: einfache Wiederholung (zum dritten Mal)\n",
        "#Definieren Sie eine Variable mit einem Wert 0 und addieren Sie die Zahl 5 insgesamt drei Mal zu der Variable, wobei Sie jedes Mal den neuen Wert ausgeben. \n",
        "\n",
        "\n",
        "#Beispiel 2: Lassen Sie die zweite Potenz von Zahlen zwischen 5 und 15 ausgeben.\n"
      ],
      "execution_count":5,
      "outputs":[
        
      ],
      "metadata":{
        
      }
    },
    {
      "cell_type":"markdown",
      "source":[
        
      ],
      "metadata":{
        
      }
    },
    {
      "cell_type":"code",
      "source":[
        "#Und schließlich iterieren wir durch einen String. Lassen Sie sich jede Buchstabe von dem String \"Hello World!\" einzeln ausgeben.\n"
      ],
      "execution_count":6,
      "outputs":[
        
      ],
      "metadata":{
        
      }
    },
    {
      "cell_type":"markdown",
      "source":[
        "**Hinweis:**\n",
        "Die print() Funktion gibt die gewünschten Daten in der Konsole aus, gefolgt von einem Abschlusszeichen. Standardmäßig ist das Auchlusszeichen der Zeilenumbrunch (\\n), aber Sie können auch ein anderes Abschlusszeichen (auch eine Zeichenabfolge) wählen.\n",
        "\n",
        "Probieren Sie es aus!"
      ],
      "metadata":{
        
      }
    },
    {
      "cell_type":"code",
      "source":[
        "#Was wird in folgenden Beispielen in der Console ausgegeben?\n",
        "for ch in \"IMC\":\n",
        "    print(ch, end=\" - \")\n",
        "\n",
        "print(\"ist einfach toll!\")"
      ],
      "execution_count":12,
      "outputs":[
        {
          "name":"stdout",
          "text":[
            "I - M - C - ist einfach toll!\n"
          ],
          "output_type":"stream"
        }
      ],
      "metadata":{
        
      }
    }
  ],
  "metadata":{
    
  },
  "nbformat":4,
  "nbformat_minor":0
}