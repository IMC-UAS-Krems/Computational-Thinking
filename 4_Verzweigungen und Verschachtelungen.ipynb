{
  "cells":[
    {
      "cell_type":"code",
      "source":[
        
      ],
      "execution_count":0,
      "outputs":[
        
      ],
      "metadata":{
        
      }
    },
    {
      "cell_type":"markdown",
      "source":[
        "# 4.1 Verzweigungen\n",
        "\n",
        "Mithilfe von Verzweigungen definieren Sie unterschiedliche Programabläufe in Abhängigkeit von Bedingungen. Die Bedingung wird ausgewertet und wenn sie wahr (True) ist, wird der zugehörige Block hinzugefügt. Eine Verzweigung hat folgende Teile:\n",
        "\n",
        "- **if + Bedingung:** Die `if`-Anweisung signalisiert, dass eine Verzweigung folgt und ist bei einer Verzweigung immer anzugeben; sie erscheint immer genau einmal in jeder Verzweigung. Der zugehörige Anweisungsblock wird ausgeführt, wenn die Bedingung als wahr (True) ausgewertet wurden; ist die Bedinung falsch (False), wird er übersprungen.\n",
        "- **elif + Bedingung:** elif ist die Abkürzung für else if. Diese Anweisung kann mehrfach zwischen if und else vorkommen. Der zugehörig Block mir Anweisungen wird immer dann ausgeführt, wenn alle vorherigen if und elif Bedingungen als falsch (False) ausgewertet wurden. elif ist opional - es muss nicht in jeder Verzweigung erscheinen - und es kann auch mehrmals erscheinen (dann immer hintereinander).\n",
        "- **else:** Dies ist eine alternative Anweisung, die nur durchgeführt wird, wenn keine der vorherigen if und elif Bedingungen als wahr (True) ausgewertet wurden. else hat somit keine Bedingung - sein Anweisungsblock wird ausgeführt wenn alle Bedingungen \"gescheitert\" sind. Nicht jede Verzweigung muss einen else-Teil haben. \n",
        "\n",
        "Insgesamt sieht die Verzeigungsstruktur wie folgt aus\n",
        "\n",
        "     if <bedingung>:   #notwending\n",
        "        <anweisung>\n",
        "        <anweisung>\n",
        "     elif <bedingung>: #optional\n",
        "        <anweisung>\n",
        "        <anweisung>\n",
        "     elif <bedingung>: #optional\n",
        "        <anweisung>\n",
        "        <anweisung>\n",
        "     else:             #optional\n",
        "        <anweisung>\n",
        "        <anweisung>\n",
        "\n",
        "Probieren Sies es aus!"
      ],
      "metadata":{
        
      }
    },
    {
      "cell_type":"code",
      "source":[
        "#Fragen Sie die Nutzerin, wie viel Prozent sie in ihrem letzten Test erszielt hat. Geben Sie dann die Note nach dem Notenspiegel der IMC aus. \n"
      ],
      "execution_count":0,
      "outputs":[
        
      ],
      "metadata":{
        
      }
    },
    {
      "cell_type":"code",
      "source":[
        "#Fragen Sie die Nutzerin nach dem Alter. Als Ausgabe geben Sie an, ob die Nutzerin erwachsen ist oder noch nicht. "
      ],
      "execution_count":0,
      "outputs":[
        
      ],
      "metadata":{
        
      }
    },
    {
      "cell_type":"markdown",
      "source":[
        "## Exkurs: Arbeiten mit Strings\n",
        "\n",
        "Damit wir im Folgenden mit etwas komplexeren Ablaufstrukturen arbeiten können, ist es an der Zeit einige weitere existierende Python-Funktionen zu lernen.\n",
        "\n",
        "**Funktionen für Strings und Listen**\n",
        "\n",
        "- Die Funktion **len()** gibt die Länge einer Liste oder eines Strings zurück (z.B. len([1,2,3]) oder len(\"Katze\")).\n",
        "- Mit **eckigen Klammern**, z.B. [5], können Sie sich ein Element einer Liste oder ein Zeichen in einem String an bestimmter Stelle ausgeben lassen (z.B. [1,2,3][2] oder \"Name\"[2]). Dabei müssen Sie beachten, dass die Elemente\/Zeichen von 0 gezählt werden (das erste Element\/Zeichen ist auf Position 0).\n",
        "\n",
        "**String-Methoden**\n",
        "\n",
        "Strings haben einige interessante Methoden, die wir nutzen können. Methoden sind Funktionen, die für Programmierobjekte vom bestimmten Typ aufgerufen werden können (in Gegensatz zu Funktionen, die immer und objektunabhängig aufgerufen werden können). So können String-Methoden für alle Daten vom Typ String aufgerufen werden. Der korrekte Syntax um Methoden aufzurufen ist objekt.methode(). Hier sind einige nützliche String-Methoden:\n",
        "- `<string>.upper()` wandelt den Stringinhalt in Großbuchstaben\n",
        "- `<string>.lower()` wandelt den Stringinhalt in Kleinbuchstaben \n",
        "- `<string>.isupper()` kontrolliert ob alle Buchstaben Großbuchstaben sind (gibt True oder False aus)\n",
        "- `<string>.islower()` kontrolliert ob alle Buchstaben Kleinbuchstaben sind (gibt True oder False aus)\n",
        "- `<string>.split(separator)` teilt den String anhand definierter Trennzeichen und gibt die einzelnen Teile als Liste aus\n",
        "\n",
        "Statt `<string>` würden Sie allerding Ihren String eingeben (z.B. \"Hello World\".upper() oder variable.lower() ). Probieren Sie es aus!"
      ],
      "metadata":{
        
      }
    },
    {
      "cell_type":"code",
      "source":[
        "#Was wird bei den folgenden Anweisungen aus? Versuchen Sie es zuerst einzuschätzen und dann lassen Sie den Code durchführen.\n",
        "gedicht = \"Hat der alte Hexenmeister sich doch einmal wegbegeben\"\n",
        "\n",
        "gedichtGr = gedicht.upper()\n",
        "\n",
        "print(gedichtGr)\n",
        "print(gedicht.lower())\n",
        "\n",
        "print(gedichtGr.isupper())\n",
        "print(gedichtGr.islower())\n",
        "\n",
        "woerter = gedicht.split()\n",
        "print(woerter) \n",
        "\n",
        "print(\"Hat der alte Hexenmeister sich doch einmal wegbegeben\"[0])\n",
        "print(gedicht[10])\n",
        "print(woerter[3])\n",
        "print(woerter[len(woerter)-1])"
      ],
      "execution_count":null,
      "outputs":[
        
      ],
      "metadata":{
        
      }
    },
    {
      "cell_type":"markdown",
      "source":[
        "# 4.2 Verschachtelungen\n",
        "\n",
        "Komplexe Programmabläufe verlagen, dass man auch zwei Schleifen ineinander oder eine Verzweigung in eine Schleife verschachtelt. Hier muss man auf korrekte Einrückungen der Blöcke achten.\n",
        "\n",
        "Sehen wir uns jetzt die Verschachtelungen an."
      ],
      "metadata":{
        
      }
    },
    {
      "cell_type":"code",
      "source":[
        "#Wir haben zweit Angaben zu einer Person: Geschlecht und Alter. Wir wollen einen Satz in folgendem Format ausgeben:\n",
        "#\"Diese(r) Mann\/Frau\/Person ist volljährig\/minderjährig.\" sodass sie der Angabe entspricht. \n",
        "#Schreiben Sie einen entsprechenden Programmcode.\n",
        "\n",
        "geschlecht = \"männlich\" #Diese Variable kann die Werte männlich, weiblich, divers enthalten\n",
        "alter = 15"
      ],
      "execution_count":0,
      "outputs":[
        
      ],
      "metadata":{
        
      }
    },
    {
      "cell_type":"code",
      "source":[
        "#Sie haben eine Liste mit Begriffen und möchten nur Wörter ausgeben, die länger sind als 8 Zeichen (Hinweis: len()).\n",
        "begriffe = [\"Achtsamkeit\", \"unwegsam\", \"beunruhigend\", \"Wasserflasche\", \"Buch\"]"
      ],
      "execution_count":9,
      "outputs":[
        
      ],
      "metadata":{
        
      }
    },
    {
      "cell_type":"code",
      "source":[
        "#Sie haben eine Liste mit dem Namen und Alter von Studierenden. \n",
        "#Geben Sie für jeden Studierenden einen Satz im Format \"Hannah ist 17 Jahre alt.\"\n",
        "studierende = [[\"Peter\", 25], [\"Ali\", 20], [\"Kim\", 43], [\"Miriam\", 19]]\n"
      ],
      "execution_count":0,
      "outputs":[
        
      ],
      "metadata":{
        
      }
    }
  ],
  "metadata":{
    
  },
  "nbformat":4,
  "nbformat_minor":0
}