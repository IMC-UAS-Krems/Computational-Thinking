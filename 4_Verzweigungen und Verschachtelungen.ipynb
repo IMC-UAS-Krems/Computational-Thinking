{
  "cells":[
    {
      "cell_type":"code",
      "source":[
        
      ],
      "execution_count":0,
      "outputs":[
        
      ],
      "metadata":{
        
      }
    },
    {
      "cell_type":"markdown",
      "source":[
        "# 4.1 Verzweigungen\n",
        "\n",
        "Mithilfe von Verzweigungen definieren Sie unterschiedliche Programabläufe in Abhängigkeit von Bedingungen. Die Bedingung wird ausgewertet und wenn sie wahr (True), wird der zugehörige Block hinzugefügt. Eine Verzweigung hat folgende Teile:\n",
        "\n",
        "- if + Bedingung: Die if Anweisung signalisiert eine Verzweigung und ist immer notwendig und erscheint genau einmal in jeder Verzweigung.\n",
        "- elif + Bedingung: Dies ist eine alternative Anweisung, die nur geprüft wird wenn Bedingungn A falsch (False) war. elif ist opional - es muss nicht in jeder Verzweigung erscheinen - und es kann auch mehrmals erscheinen (dann immer hintereinander).\n",
        "- else: Dies ist eine alternative Anweisung, die nur durchgeführt wird, wenn keine der vorherigen if und elif Bedingungen erfüllt waren. else hat keine Bedingung und ist optional.\n",
        "\n",
        "Insgesamt sieht die Verzeigungsstruktur wie folgt aus\n",
        "\n",
        "     if Bedingung A:   #notwending\n",
        "        Anweisung A\n",
        "     elif Bedingung B: #optional\n",
        "        Anweisung B\n",
        "     elif Bedingung C: #optional\n",
        "        Anweisung C\n",
        "     else:             #optional\n",
        "        Anweisung D\n",
        "\n",
        "Probieren Sies es aus!"
      ],
      "metadata":{
        
      }
    },
    {
      "cell_type":"code",
      "source":[
        "#Fragen Sie die Nutzerin, wie viel Prozent sie in ihrem letzten Test erszielt hat. Geben Sie dann die Note nach dem Notenspiegel der IMC aus. \n"
      ],
      "execution_count":0,
      "outputs":[
        
      ],
      "metadata":{
        
      }
    },
    {
      "cell_type":"code",
      "source":[
        "#Fragen Sie die Nutzerin nach dem Alter. Als Ausgabe geben Sie an, ob die Nutzerin erwachsen ist oder noch nicht. "
      ],
      "execution_count":0,
      "outputs":[
        
      ],
      "metadata":{
        
      }
    },
    {
      "cell_type":"markdown",
      "source":[
        
      ],
      "metadata":{
        
      }
    },
    {
      "cell_type":"markdown",
      "source":[
        "# 4.2 Verschachtelungen\n",
        "\n",
        "Komplexe Programmabläufe verlagen, dass man auch zwei Schleifen ineinander oder eine Verzweigung in eine Schleife verschachtelt. Hier muss man auf korrekte Einrückungen der Blöcke achten.\n",
        "\n",
        "**Hinweis:**\n",
        "Strings haben einige interessante Methoden, die wir nutzen können. Methoden sind Funktionen, die für Programmierobjekte vom bestimmten Typ aufgerufen werden können (in Gegensatz zu Funktionen, die immer und objektunabhängig aufgerufen werden können). So können String-Methoden für alle Daten vom Typ String aufgerufen werden. Der korrekte Syntax um Methoden aufzurufen ist objekt.methode(). Hier sind einige nützliche String-Methoden:\n",
        "- string.upper() wandelt den Stringinhalt in Großbuchstaben\n",
        "- string.lower() wandelt den Stringinhalt in Kleinbuchstaben \n",
        "- string.isupper() kontrolliert ob alle Buchstaben Großbuchstaben sind (gibt True oder False aus)\n",
        "- string.islower() kontrolliert ob alle Buchstaben Kleinbuchstaben sind (gibt True oder False aus)\n",
        "- string.split(separator) teilt den String anhand definierter Trennzeichen und gibt die einzelnen Teile als Liste aus\n",
        "\n",
        "Folgendes ist außerdem bei Strings und bei Listen nützlich:\n",
        "- Die Funktion len() gibt die Länge einer Liste oder eines Strings zurück (z.B. len([1,2,3]) oder len(\"Katze\")).\n",
        "- Mit eckigen Klammern können Sie sich ein Element einer Liste oder ein Zeichen in einem String an bestimmter Stelle ausgeben lassen (z.B. [1,2,3][2] oder \"Name\"[2]). Dabei müssen Sie beachten, dass die Elemente\/Zeichen von 0 gezählt werden (das erste Element\/Zeichen ist auf Position 0).\n",
        "\n",
        "Statt \"string\" würden Sie allerding Ihren String eingeben (z.B. \"Hello World\".upper() oder variable.lower() ). Probieren Sie es aus!"
      ],
      "metadata":{
        
      }
    },
    {
      "cell_type":"code",
      "source":[
        "#Was wird bei den folgenden Anweisungen aus? Versuchen Sie es zuerst einzuschätzen und dann lassen Sie den Code durchführen.\n",
        "gedicht = \"Hat der alte Hexenmeister sich doch einmal wegbegeben\"\n",
        "\n",
        "gedichtGr = gedicht.upper()\n",
        "\n",
        "print(gedichtGr)\n",
        "print(gedicht.lower())\n",
        "\n",
        "print(gedichtGr.isupper())\n",
        "print(gedichtGr.islower())\n",
        "\n",
        "woerter = gedicht.split()\n",
        "print(woerter) \n",
        "\n",
        "print(\"Hat der alte Hexenmeister sich doch einmal wegbegeben\"[0])\n",
        "print(gedicht[10])\n",
        "print(woerter[3])\n",
        "print(woerter[len(woerter)-1])"
      ],
      "execution_count":11,
      "outputs":[
        {
          "name":"stdout",
          "text":[
            "HAT DER ALTE HEXENMEISTER SICH DOCH EINMAL WEGBEGEBEN\n",
            "hat der alte hexenmeister sich doch einmal wegbegeben\n",
            "True\n",
            "False\n",
            "['Hat', 'der', 'alte', 'Hexenmeister', 'sich', 'doch', 'einmal', 'wegbegeben']\n",
            "H\n",
            "t\n",
            "Hexenmeister\n",
            "wegbegeben\n"
          ],
          "output_type":"stream"
        }
      ],
      "metadata":{
        
      }
    },
    {
      "cell_type":"markdown",
      "source":[
        "Sehen wir uns jetzt die Verschachtelungen an."
      ],
      "metadata":{
        
      }
    },
    {
      "cell_type":"code",
      "source":[
        "#Wir haben zweit Angaben zu einer Person: Geschlecht und Alter. Wir wollen einen Satz in folgendem Format ausgeben:\n",
        "#\"Diese(r) Mann\/Frau\/Person ist volljährig\/minderjährig.\" so dass sie den Angaben entspricht. \n",
        "#Schreiben Sie einen entsprechenden Programmcode.\n",
        "\n",
        "geschlecht = \"männlich\" #kann die Werte männlich, weiblich, divers haben\n",
        "alter = 15"
      ],
      "execution_count":0,
      "outputs":[
        
      ],
      "metadata":{
        
      }
    },
    {
      "cell_type":"code",
      "source":[
        "#Sie haben eine Liste mit Begriffen und möchten nur Wörter ausgeben, die länger sind als 8 Zeichen (Hinweis: len()).\n",
        "begriffe = [\"Achtsamkeit\", \"unwegsam\", \"beunruhigend\", \"Wasserflasche\", \"Buch\"]"
      ],
      "execution_count":9,
      "outputs":[
        
      ],
      "metadata":{
        
      }
    },
    {
      "cell_type":"code",
      "source":[
        "#Sie haben eine Liste mit dem Namen und Alter von Studierenden. \n",
        "#Geben Sie für jeden Studierenden einen Satz im Format \"Hannah ist 17 Jahre alt.\"\n",
        "studierende = [[\"Peter\", 25], [\"Ali\", 20], [\"Kim\", 43], [\"Miriam\", 19]]\n"
      ],
      "execution_count":0,
      "outputs":[
        
      ],
      "metadata":{
        
      }
    }
  ],
  "metadata":{
    
  },
  "nbformat":4,
  "nbformat_minor":0
}