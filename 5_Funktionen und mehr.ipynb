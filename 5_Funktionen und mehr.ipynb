{
  "cells":[
    {
      "cell_type":"code",
      "source":[
        
      ],
      "execution_count":0,
      "outputs":[
        
      ],
      "metadata":{
        
      }
    },
    {
      "cell_type":"markdown",
      "source":[
        "# 5.1 Funktionen\n",
        "\n",
        "Mithilfe von Funktionen können Sie Anweisungen zu einem benannten Block fassen. Unter diesem Namen können Sie die Funktionen dann auch aufrufen. In Python wird eine Funktion durch folgende Struktur definiert:\n",
        "\n",
        "     def <name> (<parameter>, <parameter>,...):\n",
        "        <anweisungen>\n",
        "        return <wert oder variable>\n",
        "\n",
        "- \"def\" signalisiert, dass nun eine Funktionsdefinition folgt und ist notwending.\n",
        "- \"Name\" ist der Name der Funktion und ist notwendig\n",
        "- Hinter dem Namen müssen ein Paar Klammern und ein Doppelpunkt folgen \"():\". \n",
        "- Manche Funktionen brauchen für ihre Ausführung Daten, sogenannte **Parameter** (Aurgumente), die durch die Funktion bearbeitet werden sollen (z.B. die Funktion *print()* braucht als Parameter den Wert, den sie in der Konsole ausgeben soll - `print(\"Hello!\")`; die Funktion *range()* braucht die Start- und die Endzahl - `range(1,5)`). Parameter werden in den Klammern definiert, indem ihre Namen benannt werden; mehrere Parameter werden mit Komma getrennt. Innerhalb der Anweisungen der Funktion werden die Parameter mit ihrem Namen angesprochen (ähnlich wie Variablen) um sie ihre Werte nutzen zu können. Aber nicht alle Funktionen benötigen Parameter - in diesem Fall bleiben die Klammern einfach leer.\n",
        "- Manche Funktionen geben einen Wert aus (z.B. die Ausgabe der input() Funktion ist der vom Nutzer eingegebene Wert). In einer selbst erstellten Funktion wird der auszugebende Wert wird mit der Anweisung return bestimmt.\n",
        "\n",
        "Vergleichen Sie folgende Beispiele:\n",
        "\n",
        "`````\n",
        "def erwachsen (alter):\n",
        "    if alter >= 18:\n",
        "        print (\"volljährig\")\n",
        "    else:\n",
        "        print (\"minderjährig\")\n",
        "\n",
        "def kind ():\n",
        "    alter=input(\"Wie alt sind Sie?\")\n",
        "    if alter < 18:\n",
        "        status = \"Kind\"\n",
        "    else:\n",
        "        status = \"Erwachsen\"\n",
        "    return status\n",
        "`````\n",
        "\n",
        "Eine Funktion wird in der Form \"name()\" bzw. \"name(parameter)\" bzw. \"name(parameter1, parameter2)\" aufgerufen.\n",
        "\n",
        "Zum Beispiel: `erwachsen(19)` oder `kind()`.\n",
        "\n",
        "Probieren Sie es!"
      ],
      "metadata":{
        
      }
    },
    {
      "cell_type":"code",
      "source":[
        "#Sehen wir uns zuerst die Beispiele an. Was macht die Funktion?\n",
        "def erwachsen(alter):\n",
        "    if alter >= 18:\n",
        "        print (\"volljährig\")\n",
        "    else:\n",
        "        print (\"minderjährig\")\n",
        "\n",
        "def kind ():\n",
        "    alter = int(input(\"Wie alt sind Sie?\"))\n",
        "    if alter < 18:\n",
        "        status = \"Kind\"\n",
        "    else:\n",
        "        status = \"Erwachsen\"\n",
        "    return status\n",
        "\n",
        "#Wenn Sie den Code nun einfach so ausführen lassen, passiert noch gar nichts - probieren Sie es. \n",
        "#Rufen Sie nun die Funktionen auf. "
      ],
      "execution_count":1,
      "outputs":[
        {
          "name":"stdout",
          "text":[
            "Mietze\n"
          ],
          "output_type":"stream"
        }
      ],
      "metadata":{
        
      }
    },
    {
      "cell_type":"code",
      "source":[
        "#Die Funktion hat keine return-Anweisung - sie gibt keinen speicherbaren Wert aus, sondern zeigt das Ergebnis direkt in der Konsole. \n",
        "#Schreiben Sie eine neue Funktion, die das Ergebnis (volljähring\/minderjährig) mithilfe der return-Anweisung ausgibt.\n",
        "#Rufen Sie die neue Funktion auf, speichern Sie das Ergenis in einer Variable und lassen Sie diese ausgeben.\n"
      ],
      "execution_count":0,
      "outputs":[
        
      ],
      "metadata":{
        
      }
    },
    {
      "cell_type":"code",
      "source":[
        "#Schreiben Sie ein Programm, welches die modifizierte erwachsen() Funktion (mit return-Anweisung) nutzt. \n",
        "#Das Programm soll beim Nutzer das Alter erfragen und minderjährigen Nutzern mitteilen, dass sie noch nicht wählen dürfen.\n",
        "\n"
      ],
      "execution_count":0,
      "outputs":[
        
      ],
      "metadata":{
        
      }
    },
    {
      "cell_type":"markdown",
      "source":[
        "# 5.3 Scope: globale und lokale Variablen\n",
        "\n",
        "Sie haben mit Variablen gearbeitet, die Sie am Anfang des Programmcodes deklariert haben und auf die Sie dann zugegriffen haben. Variablen, die außerhalb von Funktionen definiert werden stehen während der gesamten Programmlaufzeit für alle Programmbestandteile zur Verfügung und werden als **globale Variablen** bezeichnet. Die Werte einer globalen Variablen können Sie auch innerhalb jeder Funktion abrufen und verändern.\n",
        "\n",
        "Sie können auch innerhalb einer Funktion eine Variable definieren. Allerdings existiert diese Variable nur solange, wie die Funktion aktiv ist (solange sie nach einem Aufruf benötigt wird); danach erlischt sie und der darin gespeicherte Wert geht unwiederbringlich verloren. Diese Art von Variable kann außerdem nur innerhalb dieser Funktion angesprochen werden. Diese Art von Variablen wird als **lokale Variablen** bezeichnet. \n",
        "\n",
        "Probieren Sie es!"
      ],
      "metadata":{
        
      }
    },
    {
      "cell_type":"code",
      "source":[
        "#Sehen Sie sich den folgenden Programmcode an: welche Werte wird dieser ausgeben?\n",
        "\n",
        "globalevar = 7\n",
        "print(globalevar)\n",
        "\n",
        "def funktion ():\n",
        "    internevar = 5\n",
        "    print(internevar)\n",
        "funktion()\n",
        "\n",
        "print(internevar)"
      ],
      "execution_count":5,
      "outputs":[
        {
          "name":"stdout",
          "text":[
            "7\n",
            "5\n"
          ],
          "output_type":"stream"
        }
      ],
      "metadata":{
        
      }
    },
    {
      "cell_type":"markdown",
      "source":[
        "# 5.3 Bibliotheken\n",
        "\n",
        "In Python müssen Sie nicht immer alles selbst programmieren - Sie können auf die Arbeit anderer Programmierer zugreifen, die ihre fertigen Funktionen Bibliotheken (libraries) zur Verfügung stellen. Um eine Bibliothek zu nutzen, müssen Sie diese jedoch zuerst importieren. Das geht mit der import-Anweisung\n",
        "\n",
        "     import bibliothek as alias\n",
        "\n",
        "- `import` ist eine Anweisung, dass eine Bibliothek importiert wird.\n",
        "- Statt `bibliothek` würden Sie den Bibliotheknamen angeben.\n",
        "- Für den Aufruf einer Funktion aus der Bibliothek müssen Sie immer wieder den Bibliotheknamen angeben. Damit Sie nicht zu viel schreiben müssen, können Sie für die Bibliothek einen sehr kurzen Alias wählen und dann diesen verwenden (opional).\n",
        "\n",
        "z.B. \n",
        "\n",
        "     import random\n",
        "     a = random.randint(1, 5) #gibt eine zufällige ganze Zahl zwische 1 und 5 zurück\n",
        "\n",
        "oder mit Alias\n",
        "\n",
        "     import random as r\n",
        "     a = r.randint(1, 5) #genau gleich, aber mit Nutzung eines Alias\n",
        "\n",
        "Probieren Sie es!\n"
      ],
      "metadata":{
        
      }
    },
    {
      "cell_type":"code",
      "source":[
        "#Was glauben Sie bewirkt folgende Anweisung?\n",
        "import random as r\n",
        "a = r.randint(1, 5)\n"
      ],
      "execution_count":1,
      "outputs":[
        
      ],
      "metadata":{
        
      }
    },
    {
      "cell_type":"code",
      "source":[
        "#Zufallsfunktionen können nützlich sein, wenn Sie in Ihrem Programm wechselndes Verhalten mit Hilfe von Zufallszahlen einführen wollen.\n",
        "#Wie könnten Sie die Zufallsfunktion randint aus der Bibliothek random nutzen um ein zufälliges Tier aus der folgenden Liste zu wählen?\n",
        "\n",
        "tiere = [\"Katze\", \"Hund\", \"Vogel\", \"Schmetterling\"]\n"
      ],
      "execution_count":0,
      "outputs":[
        
      ],
      "metadata":{
        
      }
    }
  ],
  "metadata":{
    
  },
  "nbformat":4,
  "nbformat_minor":0
}