{
  "cells":[
    {
      "cell_type":"code",
      "source":[
        
      ],
      "execution_count":0,
      "outputs":[
        
      ],
      "metadata":{
        
      }
    },
    {
      "cell_type":"markdown",
      "source":[
        "# 5.1 Funktionen\n",
        "\n",
        "Mithilfe von Funktionen können Sie Anweisungen zu einem benannten Block fassen. Unter dem Namen können Sie sie dann auch aufrufen. Eine Funktion in Python hat folgende Struktur:\n",
        "\n",
        "     def name (parameter):\n",
        "        Anweisungen\n",
        "        return Wert\n",
        "\n",
        "- \"def\" zeigt, dass nun eine Funktion definiert wird und ist notwending.\n",
        "- \"name\" ist der Name der Funktion und ist notwendig.\n",
        "- Manche Funktionen brauchen für ihre Ausführung Daten, sogenannte Parameter, die durch die Funktion bearbeitet werden sollen (z.B. die Funktion print() braucht als Parameter was sie in der Konsole ausgeben soll, die Funktion range() braucht die Start- und die Endzahl). Aber nicht alle Funktionen benötigen Parameter, somit ist ihre Eingabe optional. Innerhalb der Anweisungen der Funktion werden die Parameter mit ihrem Namen angesprochen (ähnlich wie Variablen, allerdings sind Parameter konstant und ihr Wert kann nicht überschrieben werden). Wenn mehrere Parameter vorgesehen sind, werden diese mit Komma getrennt.\n",
        "- Manche Funktionen geben einen Wert aus (z.B. die Ausgabe der input() Funktion ist der vom Nutzer eingegebene Wert). Der auszugebende Wert wird mit der Anweisung return bestimmt.\n",
        "\n",
        "Zum Beispiel:\n",
        "\n",
        "     def erwachsen(alter):\n",
        "         if alter >= 18:\n",
        "            print (\"volljährig\")\n",
        "         else:\n",
        "            print (\"minderjährig\")\n",
        "\n",
        "Eine Funktion wird in der Form \"name()\" bzw. \"name(parameter)\" bzw. \"name(parameter1, parameter2)\" aufgerufen.\n",
        "\n",
        "Zum Beispiel: `erwachsen(19)`.\n",
        "\n",
        "Probieren Sie es!"
      ],
      "metadata":{
        
      }
    },
    {
      "cell_type":"code",
      "source":[
        "#Sehen wir uns zuerst den Beispiel an. Was macht die Funktion?\n",
        "def erwachsen(alter):\n",
        "    if alter >= 18:\n",
        "        print (\"volljährig\")\n",
        "    else:\n",
        "        print (\"minderjährig\")\n",
        "\n",
        "#Wenn Sie den Code nun einfach so ausführen lassen, passiert noch gar nichts - probieren Sie es. \n",
        "#Rufen Sie nun die Funktion auf. \n",
        "\n"
      ],
      "execution_count":1,
      "outputs":[
        
      ],
      "metadata":{
        
      }
    },
    {
      "cell_type":"code",
      "source":[
        "#Die Funktion hat keine return-Anweisung - sie gibt keinen speicherbaren Wert aus, sondern zeigt das Ergebnis direkt in der Konsole. \n",
        "#Schreiben Sie eine neue Funktion, die das Ergebnis (volljähring\/minderjährig) mithilfe der return-Anweisung ausgibt.\n",
        "#Rufen Sie die neue Funktion auf, speichern Sie das Ergenis in einer Variable und lassen Sie diese ausgeben.\n"
      ],
      "execution_count":0,
      "outputs":[
        
      ],
      "metadata":{
        
      }
    },
    {
      "cell_type":"code",
      "source":[
        "#Schreiben Sie ein Programm, welches die modifizierte erwachsen() Funktion (mit return-Anweisung) nutzt. \n",
        "#Das Programm soll beim Nutzer das Alter erfragen und minderjährigen Nutzern mitteilen, dass sie noch nicht wählen dürfen.\n",
        "\n"
      ],
      "execution_count":0,
      "outputs":[
        
      ],
      "metadata":{
        
      }
    },
    {
      "cell_type":"markdown",
      "source":[
        "# 5.3 Globale und lokale Variablen\n",
        "\n",
        "Sie haben mit Variablen gearbeitet, die Sie am Anfang des Programmcodes deklariert haben und auf die Sie dann zugegriffen haben. Variablen, die außerhalb von Funktionen definiert werden stehen während der gesamten Programmlaufzeit für alle Programmbestandteile zur Verfügung und werden als **globale Variablen** bezeichnet.\n",
        "\n",
        "Sie können innerhalb einer Funktion eine Variable definieren. Allerdings existiert diese Variable nur solange, wie die Funktion aktiv ist (solange sie nach einem Aufruf benötigt wird); danach erlischt sie. Die Variable ist auch nur innerhalb dieser Funktion verfügbar. Diese Art von Variablen wird als **lokale Variablen** bezeichnet. \n",
        "\n",
        "Probieren Sie es!"
      ],
      "metadata":{
        
      }
    },
    {
      "cell_type":"code",
      "source":[
        "#Sehen Sie sich den folgenden Programmcode an: welche Werte wird es ausgeben?\n",
        "\n",
        "variable = 7\n",
        "print(\"1. variable = \" + str(variable))\n",
        "\n",
        "def funktion ():\n",
        "    variable = 5\n",
        "    print(\"2. variable = \" + str(variable))\n",
        "funktion()\n",
        "print(\"3. variable = \" + str(variable))\n",
        "\n",
        "def funktion2():\n",
        "    variable2 = 6\n",
        "    print(\"4. variable2 = \" + str(variable2))\n",
        "funktion2()\n",
        "\n",
        "print(\"5. variable2 = \" + str(variable2))"
      ],
      "execution_count":12,
      "outputs":[
        {
          "name":"stdout",
          "text":[
            "variable = 7\n",
            "variable = 5\n",
            "variable = 7\n"
          ],
          "output_type":"stream"
        }
      ],
      "metadata":{
        
      }
    },
    {
      "cell_type":"markdown",
      "source":[
        "# 5.3 Bibliotheken\n",
        "\n",
        "In Python müssen Sie nicht immer alles selbst programmieren - Sie können auf die Arbeit anderer Programmierer zugreifen, die in Bibliotheken (libraries) zur Verfügung steht. Um eine Bibliothek zu nutzen, müssen Sie diese importieren. Das geht mit der import-Anweisung\n",
        "\n",
        "     import bibliothek as alias\n",
        "\n",
        "- `import` ist eine Anweisung, dass eine Bibliothek importiert wird.\n",
        "- Statt `bibliothek` würden Sie den Bibliotheknamen angeben.\n",
        "- Für den Aufruf einer Funktion aus der Bibliothek müssen Sie immer wieder den Bibliotheknamen angeben. Damit Sie nicht zu viel schreiben müssen, können Sie für die Bibliothek einen sehr kurzen Alias wählen und dann diesen verwenden (opional).\n",
        "\n",
        "z.B. \n",
        "\n",
        "     import random\n",
        "     a = random.randint(1, 5) #gibt eine zufällige ganze Zahl zwische 1 und 5 zurück\n",
        "\n",
        "oder\n",
        "\n",
        "     import random as r\n",
        "     a = r.randint(1, 5) #genau gleich, aber mit Nutzung eines Alias\n",
        "\n",
        "Probieren Sie es!\n"
      ],
      "metadata":{
        
      }
    },
    {
      "cell_type":"code",
      "source":[
        "#Was glauben Sie bewirkt folgende Anweisung?\n",
        "import random as r\n",
        "a = r.randint(1, 5)\n"
      ],
      "execution_count":1,
      "outputs":[
        
      ],
      "metadata":{
        
      }
    },
    {
      "cell_type":"code",
      "source":[
        "#Zufallsfunktionen können nützlich sein, wenn Sie in Ihrem Programm wechselndes Verhalten einführen wollen\n",
        "#Wie könnten Sie die zufallsfunktion randint aus der Bibliothek random nutzen um ein Zufallstier aus der folgende Liste zu wählen?\n",
        "\n",
        "tiere = [\"Katze\", \"Hund\", \"Vogel\", \"Schmetterling\"]\n"
      ],
      "execution_count":0,
      "outputs":[
        
      ],
      "metadata":{
        
      }
    }
  ],
  "metadata":{
    
  },
  "nbformat":4,
  "nbformat_minor":0
}