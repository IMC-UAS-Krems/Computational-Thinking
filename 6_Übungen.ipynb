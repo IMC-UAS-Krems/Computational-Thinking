{
  "cells":[
    {
      "cell_type":"code",
      "source":[
        
      ],
      "execution_count":null,
      "outputs":[
        
      ],
      "metadata":{
        
      }
    },
    {
      "cell_type":"markdown",
      "source":[
        "Lösen Sie folgende Aufgaben eigenständig. Nutzen Sie dabei den Code-Block hier im Notebook. Wenn Sie mit den Aufgaben nicht weiterkommen, nutzen Sie **MS Teams** um Hilfe zu bekommen. Vergessen Sie dabei nicht Ihr Anliegen sowie ihre bisherigen Versuche zu beschreiben."
      ],
      "metadata":{
        
      }
    },
    {
      "cell_type":"markdown",
      "source":[
        "# Übungen zu 1 Daten\n",
        "\n",
        "**Übung 1.1:** Bestimmen Sie den Datentyp von folgenden Daten: \n",
        "\n",
        "\n",
        "'Sonnenschein'\n",
        "\n",
        "382.22\n",
        "\n",
        "99\n",
        "\n",
        "77.00\n",
        "\n",
        "[23, 77, 18]\n",
        "\n",
        "-14\n",
        "\n",
        "\"235\"\n",
        "\n",
        "\"False\"\n",
        "\n",
        "False\n",
        "\n",
        "\n",
        "**Übung 1.2:** Welche der folgenden Angaben werden beim Ausführen einen Fehler hervorrufen? Wissen Sie warum?\n",
        "\n",
        "\n",
        "'Was ist ein \"Laser\"?'\n",
        "\n",
        "77,22\n",
        "\n",
        "[56.88; 88.23; \"stark\"]\n",
        "\n",
        "F\n",
        "\n",
        "\n",
        "**Übung 1.3:**\n",
        "- Definieren Sie eine Variable names xyz mit dem Wert 700.\"\n",
        "- Weisen Sie der Variable xyz einen neuen Wert zu: \"text\".\n",
        "- Vom welchen Typ ist die Variable nun?\""
      ],
      "metadata":{
        
      }
    },
    {
      "cell_type":"markdown",
      "source":[
        
      ],
      "metadata":{
        
      }
    },
    {
      "cell_type":"code",
      "source":[
        "#Übung 1.1"
      ],
      "execution_count":null,
      "outputs":[
        
      ],
      "metadata":{
        
      }
    },
    {
      "cell_type":"code",
      "source":[
        "#Übung 1.2"
      ],
      "execution_count":null,
      "outputs":[
        
      ],
      "metadata":{
        
      }
    },
    {
      "cell_type":"code",
      "source":[
        "#Übung 1.3"
      ],
      "execution_count":null,
      "outputs":[
        
      ],
      "metadata":{
        
      }
    },
    {
      "cell_type":"markdown",
      "source":[
        "# Übungen zu 2 Anweisungen\n",
        "\n",
        "**Übung 2.1**\n",
        "- Teilen Sie zuerst der Nutzerin mit, dass Sie für Sie zwei zahlen addieren werden (Hinweis: print()).\n",
        "- Fragen Sie die Nutzerin zuerst nach einer Zahl, dann nach der zweiten Zahl und dann addieren Sie diese. (Hinweis: Die Funktion input() gibt das Ergebnis immer als String zurück - sie werden sie in eine Zahl umwandeln müssen, z.B. mit float() oder int().)\n",
        "- Geben Sie das Ergebniss für die Nutzerin aus. (Hinweis: print())\n",
        "\n",
        "**Übung 2.2**\n",
        "Programmieren Sie die Umwandlung von °C zu °F. \n",
        "- Lassen Sie sich von der Nutzerin eine Zahl für Temperatur in °C geben und speichern Sie diese in einer Variable. \n",
        "- Rechnen Sie die Temperatur um in °F. (Hinweis: (C * 9\/5) + 32 = F )\n",
        "- Geben Sie den neuen Wer aus.\n",
        "\n",
        "**Übung 2.3**\n",
        "- Lassen Sie sich vom Nutzer zuerst eine und dann eine zweite Zahl geben und speichern sie diese in separaten variablen.\n",
        "- Vergleichen Sie, ob die erste Zahl gleich ist, wie die zweite und geben Sie dem Nutzer das Ergebnis als \"True\" oder \"False\" aus."
      ],
      "metadata":{
        
      }
    },
    {
      "cell_type":"code",
      "source":[
        "#Übung 2.1"
      ],
      "execution_count":null,
      "outputs":[
        
      ],
      "metadata":{
        
      }
    },
    {
      "cell_type":"code",
      "source":[
        "#Übung 2.2"
      ],
      "execution_count":null,
      "outputs":[
        
      ],
      "metadata":{
        
      }
    },
    {
      "cell_type":"code",
      "source":[
        "#Übung 2.3"
      ],
      "execution_count":null,
      "outputs":[
        
      ],
      "metadata":{
        
      }
    },
    {
      "cell_type":"markdown",
      "source":[
        "# Übung zu 3 Schleifen\n",
        "\n",
        "Lösen Sie folgende Aufgaben eigenständig. Nutzen Sie dabei den Code-Block hier im Notebook. Wenn Sie mit den Aufgaben nicht weiterkommen, nutzen Sie **MS Teams** um Hilfe zu bekommen. Vergessen Sie dabei nicht Ihr Anliegen sowie ihre bisherigen Versuche zu beschreiben.\n",
        "\n",
        "**Übung 3.1**\n",
        "Lassen Sie Ihren Namen mit Sternchen nach jedem Buchstaben ausgeben (z.B. `Michael` als `M*i*c*h*a*e*l*`).\n",
        "Nun fragen Sie den Nutzer nach seinem Namen (Hinweis: input()) und geben Sie diesen mit Sternchen aus.\n",
        "\n",
        "**Übung 3.2**\n",
        "Fragen Sie den nutzer, wie alt er in 2020 wird oder geworden ist. Geben Sie dann nacheinander die Jahreszahlen von 2020 bis zum Geburtsjahr des Nutzers aus.\n",
        "\n",
        "**Übung 3.3**\n",
        "Lassen Sie den Nutzer seinen Namen angeben. Nutzen Sie dann eine Schleife, um die Zeichen im Namen zu zählen (Hinweis: Es gibt natürlich eine Funktion, die gleich die Anzahl der Zeichen gleich ausgeben - es ist die Funktion len() (z.B. len(\"Hello!\") oder len(eineVariable) ). Aber wir wollen mit einer Schleife und einer Zählervariablen arbeiten, damir wir ihre Nutzung üben; Sie können aber gerne mit len() kontrollieren, ob Sie richtig gelegen haben."
      ],
      "metadata":{
        
      }
    },
    {
      "cell_type":"code",
      "source":[
        "#Übung 3.1"
      ],
      "execution_count":null,
      "outputs":[
        
      ],
      "metadata":{
        
      }
    },
    {
      "cell_type":"code",
      "source":[
        "#Übung 3.2"
      ],
      "execution_count":null,
      "outputs":[
        
      ],
      "metadata":{
        
      }
    },
    {
      "cell_type":"code",
      "source":[
        "#Übung 3.3"
      ],
      "execution_count":null,
      "outputs":[
        
      ],
      "metadata":{
        
      }
    },
    {
      "cell_type":"markdown",
      "source":[
        
      ],
      "metadata":{
        
      }
    },
    {
      "cell_type":"markdown",
      "source":[
        "# Übungen zu 4 Verzweigungen und Verschachtelungen\n",
        "\n",
        "Lösen Sie folgende Aufgaben eigenständig. Nutzen Sie dabei den Code-Block hier im Notebook. Wenn Sie mit den Aufgaben nicht weiterkommen, nutzen Sie **MS Teams** um Hilfe zu bekommen. Vergessen Sie dabei nicht Ihr Anliegen sowie ihre bisherigen Versuche zu beschreiben.\n",
        "\n",
        "**Übung 4.1**: Folgendes ist die Einstufung von Körpertemperatur bei Erwachsenen:\n",
        "\n",
        "- Unterkühlung:  unter 36°C\n",
        "- Normaltemperatur:\t36-37 Grad Celsius\n",
        "- Erhöhte Temperatur:\t37-38 Grad Celsius\n",
        "- Fieber:\tab 38 Grad Celsius\n",
        "- Hohes Fieber: ab 39 Grad Celsius\n",
        "\n",
        "Schreiben Sie ein Programm, welches die Nutzerinnen nach Körpertemperatur fragt und die entsprechende Einstufung ausgibt.\n",
        "\n",
        "**Übung 4.2**: N, E und R sollen die häufigsten Buchstaben in der deutschen Sprache sein. Schreiben Sie ein Programm, welches die Nutzerinnen nach einer Texteingabe frag und dann die relative Häufigkeit der Buchstaben N, E und R ausgibt.\n",
        "\n",
        "**Übung 4.3**: Schreiben Sie ein Programm, welches die Nutzerinnen nach einer Texteingabe fragt und dann nur die Wörter aus dem Text ausgibt, in denen der erste Buchstabe großgeschrieben war."
      ],
      "metadata":{
        
      }
    },
    {
      "cell_type":"code",
      "source":[
        "#Übung 4.1"
      ],
      "execution_count":null,
      "outputs":[
        
      ],
      "metadata":{
        
      }
    },
    {
      "cell_type":"code",
      "source":[
        "#Übung 4.2"
      ],
      "execution_count":null,
      "outputs":[
        
      ],
      "metadata":{
        
      }
    },
    {
      "cell_type":"code",
      "source":[
        "#Übung 4.3"
      ],
      "execution_count":null,
      "outputs":[
        
      ],
      "metadata":{
        
      }
    },
    {
      "cell_type":"markdown",
      "source":[
        "# Übungen zu 5 Funktionen und mehr\n",
        "\n",
        "**Übung 5.2** \n",
        "Definieren Sie eine Funktion, welches anhand von SWS ausrechnet, wie viele Einheiten Sie in einer Lehrveranstaltung an der IMC fehlen dürfen.\n",
        "\n",
        "**Übung 5.2**\n",
        "Die Funktion random() aus der Bibliothek random gibt eine Zufallszahl zwischen 0 und 1 zurück (Dezimalzahl). Definieren Sie eine Funktion, welches mithilfe dieser Funktion eine Zufallszahl wählt, sie mit 1000 multipliziert und als ganze Zahl zurückgibt (Hinweis: int()). RUfen Sie die Funktion in einer geeigneten Weise auf.\n",
        "\n",
        "**Übung 5.3**\n",
        "Schreiben Sie ein Programm, welches mit dem Nutzer \"Schere-Stein-Papier\" spielen kann.\n",
        "\n",
        "Hinweise\n",
        "- Wie können Sie Nutzerinput einholen?\n",
        "- Wie kann das Programm zufällig zwischen Schere, Stein und Papier entscheiden?\n",
        "- Wie würde eine Funktion aussehen, welche entscheiden kann, wer gewonnen hat?\n",
        "- Wie sieht die Gesamtstruktur des Programms aus?"
      ],
      "metadata":{
        
      }
    },
    {
      "cell_type":"code",
      "source":[
        "#Übung 5.1"
      ],
      "execution_count":null,
      "outputs":[
        
      ],
      "metadata":{
        
      }
    },
    {
      "cell_type":"code",
      "source":[
        "#Übung 5.2"
      ],
      "execution_count":null,
      "outputs":[
        
      ],
      "metadata":{
        
      }
    },
    {
      "cell_type":"code",
      "source":[
        "#Übung 5.3"
      ],
      "execution_count":null,
      "outputs":[
        
      ],
      "metadata":{
        
      }
    }
  ],
  "metadata":{
    
  },
  "nbformat":4,
  "nbformat_minor":0
}